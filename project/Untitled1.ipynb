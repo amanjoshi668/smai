{
 "cells": [
  {
   "cell_type": "code",
   "execution_count": 1,
   "metadata": {
    "ExecuteTime": {
     "end_time": "2019-04-05T16:54:47.331184Z",
     "start_time": "2019-04-05T16:54:45.322433Z"
    }
   },
   "outputs": [],
   "source": [
    "import pandas as pd\n",
    "import numpy as np"
   ]
  },
  {
   "cell_type": "code",
   "execution_count": 8,
   "metadata": {
    "ExecuteTime": {
     "end_time": "2019-04-05T16:56:32.907767Z",
     "start_time": "2019-04-05T16:56:32.201703Z"
    }
   },
   "outputs": [],
   "source": [
    "data = pd.read_csv(\"songdata.csv\")"
   ]
  },
  {
   "cell_type": "code",
   "execution_count": 7,
   "metadata": {
    "ExecuteTime": {
     "end_time": "2019-04-05T16:56:08.261087Z",
     "start_time": "2019-04-05T16:56:07.887039Z"
    }
   },
   "outputs": [
    {
     "ename": "NameError",
     "evalue": "name 'reduce' is not defined",
     "output_type": "error",
     "traceback": [
      "\u001b[0;31m---------------------------------------------------------------------------\u001b[0m",
      "\u001b[0;31mNameError\u001b[0m                                 Traceback (most recent call last)",
      "\u001b[0;32m<ipython-input-7-6f9029c8cbb9>\u001b[0m in \u001b[0;36m<module>\u001b[0;34m\u001b[0m\n\u001b[0;32m----> 1\u001b[0;31m \u001b[0mcorpus\u001b[0m \u001b[0;34m=\u001b[0m \u001b[0mreduce\u001b[0m\u001b[0;34m(\u001b[0m\u001b[0;32mlambda\u001b[0m \u001b[0ma\u001b[0m\u001b[0;34m,\u001b[0m\u001b[0mb\u001b[0m \u001b[0;34m:\u001b[0m \u001b[0mnp\u001b[0m\u001b[0;34m.\u001b[0m\u001b[0mconcatenate\u001b[0m\u001b[0;34m(\u001b[0m\u001b[0;34m[\u001b[0m\u001b[0ma\u001b[0m\u001b[0;34m,\u001b[0m\u001b[0mb\u001b[0m\u001b[0;34m]\u001b[0m\u001b[0;34m)\u001b[0m\u001b[0;34m,\u001b[0m\u001b[0mdata\u001b[0m\u001b[0;34m[\u001b[0m\u001b[0;34m'lyrics'\u001b[0m\u001b[0;34m]\u001b[0m\u001b[0;34m)\u001b[0m\u001b[0;34m\u001b[0m\u001b[0;34m\u001b[0m\u001b[0m\n\u001b[0m",
      "\u001b[0;31mNameError\u001b[0m: name 'reduce' is not defined"
     ]
    }
   ],
   "source": [
    "corpus = reduce(lambda a,b : np.concatenate([a,b]),data['lyrics'])"
   ]
  },
  {
   "cell_type": "code",
   "execution_count": 6,
   "metadata": {
    "ExecuteTime": {
     "end_time": "2019-04-05T16:55:47.300039Z",
     "start_time": "2019-04-05T16:55:47.276271Z"
    }
   },
   "outputs": [
    {
     "data": {
      "text/plain": [
       "0        Look at her face, it's a wonderful face  \\nAnd...\n",
       "1        Take it easy with me, please  \\nTouch me gentl...\n",
       "2        I'll never know why I had to go  \\nWhy I had t...\n",
       "3        Making somebody happy is a question of give an...\n",
       "4        Making somebody happy is a question of give an...\n",
       "5        Well, you hoot and you holler and you make me ...\n",
       "6        Down in the street they're all singing and sho...\n",
       "7        Chiquitita, tell me what's wrong  \\nYou're enc...\n",
       "8        I was out with the morning sun  \\nCouldn't sle...\n",
       "9        I'm waitin' for you baby  \\nI'm sitting all al...\n",
       "10       Oh, my love it makes me sad.  \\nWhy did things...\n",
       "11       You can dance, you can jive, having the time o...\n",
       "12       Changing, moving in a circle  \\nI can see your...\n",
       "13       You're so hot, teasing me  \\nSo you're blue bu...\n",
       "14       Agnetha We're not the stars of a Hollywood mov...\n",
       "15       I can hear how you work, practising hard  \\nPl...\n",
       "16       They came flying from far away, now I'm under ...\n",
       "17       Every good man needs a helping hand  \\nso I tr...\n",
       "18       Can you hear the drums Fernando?  \\nI remember...\n",
       "19       Puedes escuchar Fernando?  \\nMe recuerda tiemp...\n",
       "20       I'm down and I feel depressed  \\nSitting here ...\n",
       "21       Twinkle, Twinkle little star  \\nHow I wonder w...\n",
       "22       Half past twelve  \\nAnd I'm watching the late ...\n",
       "23       There's a gentleness to everything you do  \\nA...\n",
       "24       You say she's been mad at you  \\nThen you say ...\n",
       "25       When the autumn leaves are falling to the grou...\n",
       "26       Agnetha, Frida Early this morning I drove in t...\n",
       "27       No more champagne  \\nAnd the fireworks are thr...\n",
       "28       Benny I was a fighter, always looking for trou...\n",
       "29       I have a very good friend  \\nThe kind of girl ...\n",
       "                               ...                        \n",
       "57620    LH cause 714 is the area  \\nEverybody grab a f...\n",
       "57621    Did you ever get the feeling that you were all...\n",
       "57622    I'm up and I'm alright  \\nPush on with all my ...\n",
       "57623    I never wanted to go  \\nI never wanted a way  ...\n",
       "57624    Why's this motherfucker lookin' at me  \\nIs th...\n",
       "57625    Hell yeah, woo  \\nPunk rock trippin' with the ...\n",
       "57626    Hello tomorrow and good-bye to yesterday  \\nWe...\n",
       "57627    Here she comes to ruin my day again  \\nRight a...\n",
       "57628    Anesthetized by these lies  \\nI don't believe ...\n",
       "57629    Well I'm tired, so tired of getting up and was...\n",
       "57630    Drop in, hey  \\n  \\nCall us degenerate, heads ...\n",
       "57631    'Cause I'm a user  \\nA schmoozer  \\nA big doll...\n",
       "57632    I've got girls, they're in my room  \\nThe only...\n",
       "57633    We got bruised wrists, kick flips, sending an ...\n",
       "57634    Let it ride  \\nHow did everything get messed u...\n",
       "57635    Well some wear their feelings right on their s...\n",
       "57636    Enrique played in a band  \\nDown at the sand  ...\n",
       "57637    You can lie to me and say it's you I adore  \\n...\n",
       "57638    Let's go  \\nThe lights are on but there is no ...\n",
       "57639    I know a girl who welcomes the world  \\nI thin...\n",
       "57640    Lie to me  \\nTell me that everything will be a...\n",
       "57641    That's why I'm marching, yes, I'm marching,  \\...\n",
       "57642    [Chorus]  \\nI wanna thank you for the things y...\n",
       "57643    Seven richest countries in the world  \\nThem h...\n",
       "57644    Many generation have passed away  \\nFighting f...\n",
       "57645    Irie days come on play  \\nLet the angels fly l...\n",
       "57646    Power to the workers  \\nMore power  \\nPower to...\n",
       "57647    all you need  \\nis something i'll believe  \\nf...\n",
       "57648    northern star  \\nam i frightened  \\nwhere can ...\n",
       "57649    come in  \\nmake yourself at home  \\ni'm a bit ...\n",
       "Name: text, Length: 57650, dtype: object"
      ]
     },
     "execution_count": 6,
     "metadata": {},
     "output_type": "execute_result"
    }
   ],
   "source": []
  },
  {
   "cell_type": "code",
   "execution_count": null,
   "metadata": {},
   "outputs": [],
   "source": []
  }
 ],
 "metadata": {
  "kernelspec": {
   "display_name": "Python 3",
   "language": "python",
   "name": "python3"
  },
  "language_info": {
   "codemirror_mode": {
    "name": "ipython",
    "version": 3
   },
   "file_extension": ".py",
   "mimetype": "text/x-python",
   "name": "python",
   "nbconvert_exporter": "python",
   "pygments_lexer": "ipython3",
   "version": "3.6.8"
  },
  "latex_envs": {
   "LaTeX_envs_menu_present": true,
   "autoclose": false,
   "autocomplete": true,
   "bibliofile": "biblio.bib",
   "cite_by": "apalike",
   "current_citInitial": 1,
   "eqLabelWithNumbers": true,
   "eqNumInitial": 1,
   "hotkeys": {
    "equation": "Ctrl-E",
    "itemize": "Ctrl-I"
   },
   "labels_anchors": false,
   "latex_user_defs": false,
   "report_style_numbering": false,
   "user_envs_cfg": false
  }
 },
 "nbformat": 4,
 "nbformat_minor": 2
}
