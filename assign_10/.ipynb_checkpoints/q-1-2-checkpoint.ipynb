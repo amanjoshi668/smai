{
 "cells": [
  {
   "cell_type": "code",
   "execution_count": 1,
   "metadata": {},
   "outputs": [],
   "source": [
    "import pandas as pd\n",
    "import numpy as np\n",
    "import matplotlib.pyplot as plt\n",
    "from sklearn.preprocessing import MinMaxScaler\n",
    "from hmmlearn import hmm"
   ]
  },
  {
   "cell_type": "code",
   "execution_count": 2,
   "metadata": {},
   "outputs": [],
   "source": [
    "dataset = pd.read_csv('GoogleStocks.csv',sep= ',')\n",
    "data = dataset.values\n",
    "data = data[1:]\n",
    "# data = data[data[:,0].argsort()]"
   ]
  },
  {
   "cell_type": "code",
   "execution_count": 3,
   "metadata": {},
   "outputs": [],
   "source": [
    "def normalize(data):\n",
    "    norm = MinMaxScaler(feature_range = (0,1))\n",
    "    data_normalized = norm.fit_transform(data)\n",
    "    return data_normalized"
   ]
  },
  {
   "cell_type": "code",
   "execution_count": 4,
   "metadata": {},
   "outputs": [],
   "source": [
    "def data_preprocessing(data):\n",
    "    #normalization of input\n",
    "    data[:,1:] = normalize(data[:,1:])\n",
    "    \n",
    "    #calculating average of low and high\n",
    "    average = (data[:,4] + data[:,5])/2\n",
    "    average = np.reshape(average,(average.shape[0],1))\n",
    "    data = np.append(data,average,axis=1)\n",
    "    \n",
    "    return data"
   ]
  },
  {
   "cell_type": "code",
   "execution_count": 5,
   "metadata": {},
   "outputs": [],
   "source": [
    "def plot(predicted,actual):\n",
    "    plt.plot(predicted[:,1],label=\"predicted\")\n",
    "    plt.plot(actual[:,1],label=\"actual\")\n",
    "    plt.legend(loc=\"best\")\n",
    "    plt.show()"
   ]
  },
  {
   "cell_type": "code",
   "execution_count": 6,
   "metadata": {},
   "outputs": [
    {
     "name": "stderr",
     "output_type": "stream",
     "text": [
      "/home/arpit/.local/lib/python3.6/site-packages/sklearn/utils/validation.py:595: DataConversionWarning: Data with input dtype object was converted to float64 by MinMaxScaler.\n",
      "  warnings.warn(msg, DataConversionWarning)\n"
     ]
    }
   ],
   "source": [
    "data = data_preprocessing(data)"
   ]
  },
  {
   "cell_type": "code",
   "execution_count": 7,
   "metadata": {},
   "outputs": [],
   "source": [
    "hidden_states = [4,8,12]\n",
    "timesteps = [20,50,75]\n",
    "max_iter = 10000\n",
    "test_length = 100"
   ]
  },
  {
   "cell_type": "code",
   "execution_count": 11,
   "metadata": {},
   "outputs": [],
   "source": [
    "def get_model(i,h,train_data):\n",
    "    if i == test_length - 1:\n",
    "        model = hmm.GaussianHMM(n_components=h, covariance_type='full', n_iter=max_iter, init_params='stmc')\n",
    "    else:\n",
    "        model = hmm.GaussianHMM(n_components=h, covariance_type='full', n_iter=max_iter, init_params='')\n",
    "        model.means_ = means_retune_prior\n",
    "        model.startprob_ = startprob_retune_prior\n",
    "        model.covars_ = covars_retune_prior\n",
    "        model.transmat_ = transmat_retune_prior \n",
    "\n",
    "    model.fit(np.flipud(train_data))\n",
    "    return model"
   ]
  },
  {
   "cell_type": "code",
   "execution_count": 12,
   "metadata": {
    "scrolled": true
   },
   "outputs": [
    {
     "ename": "NameError",
     "evalue": "name 'num_examples' is not defined",
     "output_type": "error",
     "traceback": [
      "\u001b[0;31m---------------------------------------------------------------------------\u001b[0m",
      "\u001b[0;31mNameError\u001b[0m                                 Traceback (most recent call last)",
      "\u001b[0;32m<ipython-input-12-a8281e04706f>\u001b[0m in \u001b[0;36m<module>\u001b[0;34m\u001b[0m\n\u001b[1;32m     20\u001b[0m             \u001b[0mpast_likelihood\u001b[0m \u001b[0;34m=\u001b[0m \u001b[0;34m[\u001b[0m\u001b[0;34m]\u001b[0m\u001b[0;34m\u001b[0m\u001b[0;34m\u001b[0m\u001b[0m\n\u001b[1;32m     21\u001b[0m             \u001b[0miters\u001b[0m \u001b[0;34m=\u001b[0m \u001b[0;36m1\u001b[0m\u001b[0;34m\u001b[0m\u001b[0;34m\u001b[0m\u001b[0m\n\u001b[0;32m---> 22\u001b[0;31m             \u001b[0;32mwhile\u001b[0m \u001b[0miters\u001b[0m \u001b[0;34m<\u001b[0m \u001b[0mnum_examples\u001b[0m \u001b[0;34m/\u001b[0m \u001b[0mt\u001b[0m \u001b[0;34m-\u001b[0m \u001b[0;36m1\u001b[0m\u001b[0;34m:\u001b[0m\u001b[0;34m\u001b[0m\u001b[0;34m\u001b[0m\u001b[0m\n\u001b[0m\u001b[1;32m     23\u001b[0m                 \u001b[0mpast_likelihood\u001b[0m \u001b[0;34m=\u001b[0m \u001b[0mnp\u001b[0m\u001b[0;34m.\u001b[0m\u001b[0mappend\u001b[0m\u001b[0;34m(\u001b[0m\u001b[0mpast_likelihood\u001b[0m\u001b[0;34m,\u001b[0m \u001b[0mmodel\u001b[0m\u001b[0;34m.\u001b[0m\u001b[0mscore\u001b[0m\u001b[0;34m(\u001b[0m\u001b[0mnp\u001b[0m\u001b[0;34m.\u001b[0m\u001b[0mflipud\u001b[0m\u001b[0;34m(\u001b[0m\u001b[0mtrain_data\u001b[0m\u001b[0;34m[\u001b[0m\u001b[0miters\u001b[0m\u001b[0;34m:\u001b[0m\u001b[0miters\u001b[0m \u001b[0;34m+\u001b[0m \u001b[0mt\u001b[0m \u001b[0;34m-\u001b[0m \u001b[0;36m1\u001b[0m\u001b[0;34m,\u001b[0m \u001b[0;34m:\u001b[0m\u001b[0;34m]\u001b[0m\u001b[0;34m)\u001b[0m\u001b[0;34m)\u001b[0m\u001b[0;34m)\u001b[0m\u001b[0;34m\u001b[0m\u001b[0;34m\u001b[0m\u001b[0m\n\u001b[1;32m     24\u001b[0m                 \u001b[0miters\u001b[0m \u001b[0;34m=\u001b[0m \u001b[0miters\u001b[0m \u001b[0;34m+\u001b[0m \u001b[0;36m1\u001b[0m\u001b[0;34m\u001b[0m\u001b[0;34m\u001b[0m\u001b[0m\n",
      "\u001b[0;31mNameError\u001b[0m: name 'num_examples' is not defined"
     ]
    }
   ],
   "source": [
    "for h in hidden_states:\n",
    "    for t in timesteps:\n",
    "        required_data = data[:,[2,3,6]]\n",
    "        predicted = np.empty([0,required_data.shape[1]])\n",
    "        actual = np.empty([0,required_data.shape[1]])\n",
    "        \n",
    "        i = test_length - 1\n",
    "        while(i>=0):\n",
    "            test_data = required_data[i,:]\n",
    "            train_data = required_data[i + 1:,:]\n",
    "            \n",
    "            model = get_model(i,h,train_data)\n",
    "\n",
    "            means_retune_prior = model.means_\n",
    "            startprob_retune_prior = model.startprob_\n",
    "            covars_retune_prior = model.covars_\n",
    "            transmat_retune_prior = model.transmat_\n",
    "\n",
    "            curr_likelihood = model.score(np.flipud(train_data[0:t - 1, :]))\n",
    "            past_likelihood = []\n",
    "            iters = 1\n",
    "            while iters < num_examples / t - 1:\n",
    "                past_likelihood = np.append(past_likelihood, model.score(np.flipud(train_data[iters:iters + t - 1, :])))\n",
    "                iters = iters + 1\n",
    "            likelihood_diff_i = np.argmin(np.absolute(past_likelihood - curr_likelihood))\n",
    "            predicted_change = train_data[likelihood_diff_i,:] - train_data[likelihood_diff_i + 1,:]\n",
    "            predicted = np.vstack((predicted, test_data + predicted_change))\n",
    "            actual = np.vstack((actual,test_data))\n",
    "            i-=1\n",
    "        plot(predicted,actual)\n",
    "        "
   ]
  },
  {
   "cell_type": "code",
   "execution_count": null,
   "metadata": {},
   "outputs": [],
   "source": []
  }
 ],
 "metadata": {
  "kernelspec": {
   "display_name": "Python 3",
   "language": "python",
   "name": "python3"
  },
  "language_info": {
   "codemirror_mode": {
    "name": "ipython",
    "version": 3
   },
   "file_extension": ".py",
   "mimetype": "text/x-python",
   "name": "python",
   "nbconvert_exporter": "python",
   "pygments_lexer": "ipython3",
   "version": "3.6.8"
  },
  "latex_envs": {
   "LaTeX_envs_menu_present": true,
   "autoclose": false,
   "autocomplete": true,
   "bibliofile": "biblio.bib",
   "cite_by": "apalike",
   "current_citInitial": 1,
   "eqLabelWithNumbers": true,
   "eqNumInitial": 1,
   "hotkeys": {
    "equation": "Ctrl-E",
    "itemize": "Ctrl-I"
   },
   "labels_anchors": false,
   "latex_user_defs": false,
   "report_style_numbering": false,
   "user_envs_cfg": false
  }
 },
 "nbformat": 4,
 "nbformat_minor": 2
}
