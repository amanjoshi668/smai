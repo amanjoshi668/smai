{
 "cells": [
  {
   "cell_type": "code",
   "execution_count": 4,
   "metadata": {
    "ExecuteTime": {
     "end_time": "2019-02-26T12:38:49.253728Z",
     "start_time": "2019-02-26T12:38:48.425542Z"
    }
   },
   "outputs": [],
   "source": [
    "import pandas as pd\n",
    "import numpy as np\n",
    "from sklearn.model_selection import train_test_split\n",
    "import matplotlib.pyplot as plt\n",
    "from sklearn.metrics import accuracy_score\n",
    "from scipy.special import xlogy\n",
    "import pickle"
   ]
  },
  {
   "cell_type": "markdown",
   "metadata": {},
   "source": [
    "## Class Layer:\n",
    "- Each layer has many features input_dim, output_dim, activation_function, its derivative, matrix W (weights) and b (biases).\n",
    "- Each layer also has other parameters like A(input to layer), Z(output from layer), dW(gradient change in W), db(gradient change in b). However, these variables are temporary and removed as soon as their work is done."
   ]
  },
  {
   "cell_type": "markdown",
   "metadata": {},
   "source": [
    "## Class Neural Network:\n",
    "- Variables list of layers, Number of iterations, learning rate(alpha), and batch size)\n",
    "- It also contain all the activation functions as welll as their derivatives.\n",
    "- It contain functions for fitting and predicting data.\n",
    "- There are functions for computing loss, computing error, computing accuracy.\n",
    "- There are functions which are used while training data like forward_propogation, backward_propogation, update_parameters."
   ]
  },
  {
   "cell_type": "markdown",
   "metadata": {},
   "source": [
    "#### Forward Propogation:\n",
    "For each layer there is input **A<sup>[l]</sup>** to it. Each layer has **W<sup>[l]</sup>** and **b<sup>[l]</sup>** precomputed. Morever there is an activation function __g<sup>[l]</sup>__ already associated to each layer. Two values Z<sup>[l]</sup> and A<sup>[l+1]</sup>\n",
    "\n",
    "\\begin{equation*}\n",
    "Z^{l} = W^{l}.A^{l} + b^{l}\n",
    "\\end{equation*}\n",
    "\\begin{equation*}\n",
    "A^{l+1} = g^{l+1}(Z^{l})\n",
    "\\end{equation*}\n",
    "\n",
    "Then this A<sup>l+1</sup> is forwarded as input to next layer. then final output is computed."
   ]
  },
  {
   "cell_type": "markdown",
   "metadata": {},
   "source": [
    "#### Cost function:\n",
    "Cost is computed as Cross entropy which is simpy summation over original value and log of predicted value i.e.\n",
    "\\begin{equation*}\n",
    "L\\{Y, A\\} = \\frac{-1}{m}\\sum_{k=1}^m(Y*log(A) + ((1-Y)*log(1-A))\n",
    "\\end{equation*}\n",
    "it derivative is given as:\n",
    "\\begin{equation*}\n",
    "dA\\{Y, A\\} = \\frac{-Y}{A} + \\frac{1-Y}{1-A}\n",
    "\\end{equation*}"
   ]
  },
  {
   "cell_type": "markdown",
   "metadata": {},
   "source": [
    "#### Backward propogation\n",
    "For each layer **dA<sup>l</sup>** is given as input from it __dZ<sup>l</sup>__ is computed. Which in then used to compute __dW<sup>l</sup>__ and **db<sup>l</sup>**. We also compute __dA<sup>l-1</sup>__, it is passed as error for the previous layer.\n",
    "\\begin{equation*}\n",
    "dZ^{l} = dA^{l} * g^{l^{'}}(Z^{l})\n",
    "\\end{equation*}\n",
    "\\begin{equation*}\n",
    "dA^{l-1} = W^{l}.dZ^{l}\n",
    "\\end{equation*}\n",
    "\\begin{equation*}\n",
    "dW^{l} = \\frac{1}{m} * dZ^{l}.A^{l}\n",
    "\\end{equation*}\n",
    "\\begin{equation*}\n",
    " db^{l} = \\frac{1}{m}*\\sum_{k=1}^mdZ^{l}\n",
    "\\end{equation*}\n",
    "\\begin{equation*}\n",
    "W^{l} = W^{l} - {\\alpha} * dW^{l}\n",
    "\\end{equation*}\n",
    "\\begin{equation*}\n",
    "b^{l} = b^{l} - {\\alpha} * db^{l}\n",
    "\\end{equation*}"
   ]
  },
  {
   "cell_type": "code",
   "execution_count": 20,
   "metadata": {
    "ExecuteTime": {
     "end_time": "2019-02-26T12:47:12.002660Z",
     "start_time": "2019-02-26T12:47:11.898820Z"
    }
   },
   "outputs": [],
   "source": [
    "class layer:\n",
    "    def __init__(self, output_dim, input_dim, activation_function, derivative):\n",
    "        self.output_dim = output_dim\n",
    "        self.input_dim = input_dim\n",
    "        self.activation_function = activation_function\n",
    "        self.activation_function_derivative = derivative\n",
    "        self.W = np.random.randn(output_dim, input_dim)*np.sqrt(2/input_dim)\n",
    "        self.b = np.zeros((output_dim, 1))\n",
    "\n",
    "    def print_layer_detail(self):\n",
    "        print(\n",
    "            \"\"\"Input_dim = {0}, output_dim = {1}, activation_function = {2}, W.shape = {3},\n",
    "            Z.shape = {4}, b.shape = {5}\"\"\".format(\n",
    "                self.input_dim, self.output_dim,\n",
    "                self.activation_function.__name__, self.W.shape, self.Z.shape,\n",
    "                self.b.shape))\n",
    "\n",
    "\n",
    "class NeuralNetwork:\n",
    "    def __init__(self, iterations=100, alpha=0.01, batch_size=50):\n",
    "        self.layers = []\n",
    "        self.iterations = iterations\n",
    "        self.alpha = alpha\n",
    "        self.epsilon = 1e-11\n",
    "        self.batch_size = batch_size\n",
    "\n",
    "    def change_iterations(self, iterations):\n",
    "        self.iterations = iterations\n",
    "\n",
    "    def change_alpha(self, alpha):\n",
    "        self.alpha = alpha\n",
    "\n",
    "    def sigmoid(self, z):\n",
    "        s = 1 / (1 + np.exp(-z))\n",
    "        return s\n",
    "\n",
    "    def sigmoid_derivative(self, z):\n",
    "        s = self.sigmoid(z)\n",
    "        s = s*(1-s)\n",
    "        return s\n",
    "\n",
    "    def relu(self, z):\n",
    "#         print(z)\n",
    "        s = np.maximum(0, z)\n",
    "        return s\n",
    "\n",
    "    def relu_derivative(self, z):\n",
    "        s = (z>0)\n",
    "        #z[z >= 0] = 1\n",
    "        #z[z < 0] = 0\n",
    "        s = s.astype('int')\n",
    "        assert(s.shape == z.shape)\n",
    "        return s\n",
    "\n",
    "    def tanh(self, z):\n",
    "        return np.tanh(z)\n",
    "\n",
    "    def tanh_derivative(self, z):\n",
    "        return (1-np.square(np.tanh(z)))\n",
    "\n",
    "    def softmax(self, z):\n",
    "        z = z - z.max(axis=0, keepdims=True)\n",
    "        y = np.exp(z)\n",
    "        y = np.nan_to_num(y)\n",
    "        y = y / y.sum(axis=0, keepdims=True)\n",
    "        return y\n",
    "\n",
    "    def softmax_derivative(self, z):\n",
    "        print(z.shape)\n",
    "        z = z - z.max(axis=0, keepdims=True)\n",
    "        y = np.exp(z)\n",
    "        y = (y * (y.sum(axis=0, keepdims=True) - y)) / np.square(\n",
    "            y.sum(axis=0, keepdims=True))\n",
    "        return y\n",
    "\n",
    "    def standardize(self, X):\n",
    "        X_standardized = (X-self.mean)/self.std\n",
    "        #         display(X_standardized, X_standardized.shape)\n",
    "        return X_standardized\n",
    "\n",
    "    def add_layer(self, output_dim, input_dim, activation=\"relu\"):\n",
    "        activation_function = None\n",
    "        derivative = None\n",
    "        if activation == \"relu\":\n",
    "            activation_function = self.relu\n",
    "            derivative = self.relu_derivative\n",
    "        elif activation == \"sigmoid\":\n",
    "            activation_function = self.sigmoid\n",
    "            derivative = self.sigmoid_derivative\n",
    "        elif activation == \"tanh\":\n",
    "            activation_function = self.tanh\n",
    "            derivative = self.tanh_derivative\n",
    "        elif activation == \"softmax\":\n",
    "            activation_function = self.softmax\n",
    "            derivative = self.softmax_derivative\n",
    "        else:\n",
    "            raise (\"Not a valid error function\")\n",
    "            return\n",
    "        new_layer = layer(output_dim, input_dim, activation_function,\n",
    "                          derivative)\n",
    "        if len(self.layers) == 0:\n",
    "            self.input_shape = input_dim\n",
    "        self.output_shape = output_dim\n",
    "        self.layers.append(new_layer)\n",
    "\n",
    "    def fit(self, X, y):\n",
    "        self.mean, self.std = X.mean(), X.std()\n",
    "        X = self.standardize(X)\n",
    "        X = np.array(X).T\n",
    "        y = np.array(y).T\n",
    "        assert (X.shape[0] == self.input_shape)\n",
    "        assert (y.shape[0] == self.output_shape)\n",
    "        assert (X.shape[1] == y.shape[1])\n",
    "        m = X.shape[1]\n",
    "        costs = []\n",
    "\n",
    "        #### X.shape = (number_of_features, number_of_rows)\n",
    "        #### y.shape = (number_of_labels, number_of_rows)\n",
    "        full_X = X.T\n",
    "        full_y = y.T\n",
    "        for i in range(self.iterations):\n",
    "            p = np.random.permutation(m)\n",
    "            full_X, full_y = full_X[p], full_y[p]\n",
    "            print(\"Iteration Number: \",i+1)\n",
    "            start = 0\n",
    "            end = self.batch_size\n",
    "            xxx = 2*m/(self.batch_size*3)\n",
    "            while end <= m:\n",
    "                X = full_X.T[:, start:end]\n",
    "                y = full_y.T[:, start:end]\n",
    "                start+=self.batch_size\n",
    "                end+=self.batch_size\n",
    "                if end%xxx == 0:\n",
    "                    print(\"#\",end='')\n",
    "            #### Forward Propogation\n",
    "                A = X\n",
    "                for layer_no in range(len(self.layers)):\n",
    "                    A = self.forward_propogation(layer_no, A)\n",
    "#                 A = np.nan_to_num(A)\n",
    "#                 A = A / A.sum(axis=0, keepdims=True)\n",
    "#                 print(max(A.sum(axis = 1)))\n",
    "                #### A.shape = (number_of_labels, number_of_rows)\n",
    "                dZ = A - y\n",
    "                W = self.layers[-1].W\n",
    "                A = self.layers[-1].A\n",
    "                dW = np.dot(dZ, A.T) / m\n",
    "                #### shape of db = (output_dim, 1)\n",
    "                db = (1 / m) * np.sum(dZ, axis=1, keepdims=True)\n",
    "                #### shape of da_new = ((input_dim, output_dim)*(output_dim, number_of_rows))\n",
    "                #### shape of da_new = (input_dim, number_of_rows)\n",
    "                dA = np.dot(W.T, dZ)\n",
    "                #         print(\"da_new.shape = {0}\".format(da_new.shape))\n",
    "                self.layers[-1].dW = dW\n",
    "                self.layers[-1].db = db\n",
    "                #### Backward Propogation\n",
    "                for layer_no in range(len(self.layers) - 2, -1, -1):\n",
    "                    dA = self.backward_propogation(layer_no, dA)\n",
    "\n",
    "                #### Update parameters\n",
    "\n",
    "                for layer_no in range(len(self.layers)):\n",
    "                    self.update_parameters(i,layer_no)\n",
    "\n",
    "            A = full_X.T\n",
    "            for layer_no in range(len(self.layers)):\n",
    "                A = self.forward_propogation(layer_no, A)\n",
    "            cost = self.compute_cost(A, full_y.T)\n",
    "            costs.append(cost)\n",
    "#             print()\n",
    "                \n",
    "        iteration_list = [i for i in range(1, len(costs) + 1)]\n",
    "        plt.style.use('fivethirtyeight')\n",
    "        plt.plot(iteration_list, costs)\n",
    "        plt.ylabel(\"Loss\")\n",
    "        plt.xlabel(\"Iterations\")\n",
    "        plt.show()\n",
    "#         display(costs)\n",
    "\n",
    "    def forward_propogation(self, layer_no, A):\n",
    "#         display(\"Layer number {0}\".format(layer_no))\n",
    "        self.layers[layer_no].A = A\n",
    "        #### shape of A = (input_dim, number of rows)\n",
    "        #### shape of W = (output_dim, input_dim)\n",
    "        W = self.layers[layer_no].W\n",
    "        b = self.layers[layer_no].b\n",
    "        #### shape of b = (output_dim, 1)\n",
    "        g = self.layers[layer_no].activation_function\n",
    "        self.layers[layer_no].Z = np.dot(W, A) + b\n",
    "        #### shape of Z = (output_dim, number_of_rows)\n",
    "        A = g(self.layers[layer_no].Z)\n",
    "        #### shape of A = (output_dim, number_of_rows)\n",
    "        return A\n",
    "\n",
    "    def compute_cost(self, prediction, target):\n",
    "        #         display(y_hat.max())\n",
    "        # shape of prediction (number_of_labels, number of training rows)\n",
    "        m = prediction.shape[1]\n",
    "        clipped = np.clip(prediction, self.epsilon, 1 - self.epsilon)\n",
    "        cost = target * np.log(clipped) + (1 - target) * np.log(1 - clipped)\n",
    "        return -np.sum(cost)/m\n",
    "    \n",
    "    def compute_error(self, prediction, target):\n",
    "        denominator = np.maximum(prediction - prediction ** 2, self.epsilon)\n",
    "        delta = (prediction - target) / denominator\n",
    "#         delta = -np.nan_to_num(np.divide(target, prediction)) + np.nan_to_num(np.divide(1-target, 1-prediction))\n",
    "        assert (delta.shape == target.shape == prediction.shape)\n",
    "        return delta\n",
    "\n",
    "    def backward_propogation(self, layer_no, dA):\n",
    "        #### shape of dA = (output_dim, number_of_rows)\n",
    "        #### shape of W = (output_dim, input_dim)\n",
    "        #### shape of Z = (output_dim, number_of_rows)\n",
    "        #### shape of A = (input_dim, number_of_rows)\n",
    "        W = self.layers[layer_no].W\n",
    "        g_der = self.layers[layer_no].activation_function_derivative\n",
    "        Z = self.layers[layer_no].Z\n",
    "        A = self.layers[layer_no].A\n",
    "        m = A.shape[1]\n",
    "        #### shape of dZ = (output_dim, number_of_rows)\n",
    "        #         print(\n",
    "        #             \"dA.shape = {0}, Z.shape = {1}, activation_function = {2}\".format(\n",
    "        #                 dA.shape, Z.shape, g_der.__name__))\n",
    "        dZ = dA * g_der(Z)\n",
    "        #### shape of dW = ((output_dim, number_of_rows)*(number_of_rows, input_dim))\n",
    "        #### shape of dW = (output_dim, input_dim)\n",
    "        dW = np.dot(dZ, A.T) / m\n",
    "        #### shape of db = (output_dim, 1)\n",
    "        db = (1 / m) * np.sum(dZ, axis=1, keepdims=True)\n",
    "        #### shape of da_new = ((input_dim, output_dim)*(output_dim, number_of_rows))\n",
    "        #### shape of da_new = (input_dim, number_of_rows)\n",
    "        da_new = np.dot(W.T, dZ)\n",
    "        #         print(\"da_new.shape = {0}\".format(da_new.shape))\n",
    "        self.layers[layer_no].dW = dW\n",
    "        self.layers[layer_no].db = db\n",
    "        self.layers[layer_no].A = self.layers[layer_no].Z = None\n",
    "        return da_new\n",
    "\n",
    "    def update_parameters(self, iteration, layer_no):\n",
    "        #### shape of W, dW = (output_dim, input_dim)\n",
    "        #### shape of b, db = (output_dim, 1)\n",
    "        W = self.layers[layer_no].W\n",
    "        b = self.layers[layer_no].b\n",
    "        dW = self.layers[layer_no].dW\n",
    "        db = self.layers[layer_no].db\n",
    "        alph = self.alpha/(1+iteration)\n",
    "        W = W - alph * dW\n",
    "        b = b - alph * db\n",
    "        self.layers[layer_no].W = W\n",
    "        self.layers[layer_no].b = b\n",
    "        self.layers[layer_no].dW = self.layers[layer_no].db = None\n",
    "#         display(\"W\", W)\n",
    "#         display(\"b\", b)\n",
    "\n",
    "    def predict(self, X):\n",
    "        X = np.array(self.standardize(X))\n",
    "        X = np.array(X).T\n",
    "        A = X\n",
    "        for layer_no in range(len(self.layers)):\n",
    "            A = self.forward_propogation(layer_no, A)\n",
    "        A = A.T\n",
    "#         for i in range(len(A)):\n",
    "#             display(A[i])\n",
    "        return A\n",
    "    def calculate_accuracy(self, y_pred, y_test):\n",
    "        y_hat = np.argmax(y_pred, axis=1).flatten()\n",
    "        y__test = np.array(y_test)\n",
    "        y__test = np.argmax(y__test, axis=1).flatten()\n",
    "#         print(np.unique(y_hat, return_counts=True))\n",
    "        count = 0\n",
    "        for yh, y in zip(y_hat, y__test):\n",
    "            if (yh == y):\n",
    "                count += 1\n",
    "        return (count /  len(y_hat))"
   ]
  },
  {
   "cell_type": "code",
   "execution_count": 19,
   "metadata": {
    "ExecuteTime": {
     "end_time": "2019-02-26T12:46:58.940923Z",
     "start_time": "2019-02-26T12:46:53.406275Z"
    }
   },
   "outputs": [],
   "source": [
    "data = pd.read_csv(\"Apparel/apparel-trainval.csv\")\n",
    "data = data.astype('float64')"
   ]
  },
  {
   "cell_type": "code",
   "execution_count": 7,
   "metadata": {
    "ExecuteTime": {
     "end_time": "2019-02-26T12:39:08.412122Z",
     "start_time": "2019-02-26T12:39:08.361331Z"
    }
   },
   "outputs": [
    {
     "data": {
      "text/html": [
       "<div>\n",
       "<style scoped>\n",
       "    .dataframe tbody tr th:only-of-type {\n",
       "        vertical-align: middle;\n",
       "    }\n",
       "\n",
       "    .dataframe tbody tr th {\n",
       "        vertical-align: top;\n",
       "    }\n",
       "\n",
       "    .dataframe thead th {\n",
       "        text-align: right;\n",
       "    }\n",
       "</style>\n",
       "<table border=\"1\" class=\"dataframe\">\n",
       "  <thead>\n",
       "    <tr style=\"text-align: right;\">\n",
       "      <th></th>\n",
       "      <th>label</th>\n",
       "      <th>pixel1</th>\n",
       "      <th>pixel2</th>\n",
       "      <th>pixel3</th>\n",
       "      <th>pixel4</th>\n",
       "      <th>pixel5</th>\n",
       "      <th>pixel6</th>\n",
       "      <th>pixel7</th>\n",
       "      <th>pixel8</th>\n",
       "      <th>pixel9</th>\n",
       "      <th>...</th>\n",
       "      <th>pixel775</th>\n",
       "      <th>pixel776</th>\n",
       "      <th>pixel777</th>\n",
       "      <th>pixel778</th>\n",
       "      <th>pixel779</th>\n",
       "      <th>pixel780</th>\n",
       "      <th>pixel781</th>\n",
       "      <th>pixel782</th>\n",
       "      <th>pixel783</th>\n",
       "      <th>pixel784</th>\n",
       "    </tr>\n",
       "  </thead>\n",
       "  <tbody>\n",
       "    <tr>\n",
       "      <th>0</th>\n",
       "      <td>2.0</td>\n",
       "      <td>0.0</td>\n",
       "      <td>0.0</td>\n",
       "      <td>0.0</td>\n",
       "      <td>0.0</td>\n",
       "      <td>0.0</td>\n",
       "      <td>0.0</td>\n",
       "      <td>0.0</td>\n",
       "      <td>0.0</td>\n",
       "      <td>0.0</td>\n",
       "      <td>...</td>\n",
       "      <td>0.0</td>\n",
       "      <td>0.0</td>\n",
       "      <td>0.0</td>\n",
       "      <td>0.0</td>\n",
       "      <td>0.0</td>\n",
       "      <td>0.0</td>\n",
       "      <td>0.0</td>\n",
       "      <td>0.0</td>\n",
       "      <td>0.0</td>\n",
       "      <td>0.0</td>\n",
       "    </tr>\n",
       "    <tr>\n",
       "      <th>1</th>\n",
       "      <td>9.0</td>\n",
       "      <td>0.0</td>\n",
       "      <td>0.0</td>\n",
       "      <td>0.0</td>\n",
       "      <td>0.0</td>\n",
       "      <td>0.0</td>\n",
       "      <td>0.0</td>\n",
       "      <td>0.0</td>\n",
       "      <td>0.0</td>\n",
       "      <td>0.0</td>\n",
       "      <td>...</td>\n",
       "      <td>0.0</td>\n",
       "      <td>0.0</td>\n",
       "      <td>0.0</td>\n",
       "      <td>0.0</td>\n",
       "      <td>0.0</td>\n",
       "      <td>0.0</td>\n",
       "      <td>0.0</td>\n",
       "      <td>0.0</td>\n",
       "      <td>0.0</td>\n",
       "      <td>0.0</td>\n",
       "    </tr>\n",
       "    <tr>\n",
       "      <th>2</th>\n",
       "      <td>6.0</td>\n",
       "      <td>0.0</td>\n",
       "      <td>0.0</td>\n",
       "      <td>0.0</td>\n",
       "      <td>0.0</td>\n",
       "      <td>0.0</td>\n",
       "      <td>0.0</td>\n",
       "      <td>0.0</td>\n",
       "      <td>5.0</td>\n",
       "      <td>0.0</td>\n",
       "      <td>...</td>\n",
       "      <td>0.0</td>\n",
       "      <td>0.0</td>\n",
       "      <td>0.0</td>\n",
       "      <td>30.0</td>\n",
       "      <td>43.0</td>\n",
       "      <td>0.0</td>\n",
       "      <td>0.0</td>\n",
       "      <td>0.0</td>\n",
       "      <td>0.0</td>\n",
       "      <td>0.0</td>\n",
       "    </tr>\n",
       "    <tr>\n",
       "      <th>3</th>\n",
       "      <td>0.0</td>\n",
       "      <td>0.0</td>\n",
       "      <td>0.0</td>\n",
       "      <td>0.0</td>\n",
       "      <td>1.0</td>\n",
       "      <td>2.0</td>\n",
       "      <td>0.0</td>\n",
       "      <td>0.0</td>\n",
       "      <td>0.0</td>\n",
       "      <td>0.0</td>\n",
       "      <td>...</td>\n",
       "      <td>3.0</td>\n",
       "      <td>0.0</td>\n",
       "      <td>0.0</td>\n",
       "      <td>0.0</td>\n",
       "      <td>0.0</td>\n",
       "      <td>1.0</td>\n",
       "      <td>0.0</td>\n",
       "      <td>0.0</td>\n",
       "      <td>0.0</td>\n",
       "      <td>0.0</td>\n",
       "    </tr>\n",
       "    <tr>\n",
       "      <th>4</th>\n",
       "      <td>3.0</td>\n",
       "      <td>0.0</td>\n",
       "      <td>0.0</td>\n",
       "      <td>0.0</td>\n",
       "      <td>0.0</td>\n",
       "      <td>0.0</td>\n",
       "      <td>0.0</td>\n",
       "      <td>0.0</td>\n",
       "      <td>0.0</td>\n",
       "      <td>0.0</td>\n",
       "      <td>...</td>\n",
       "      <td>0.0</td>\n",
       "      <td>0.0</td>\n",
       "      <td>0.0</td>\n",
       "      <td>0.0</td>\n",
       "      <td>0.0</td>\n",
       "      <td>0.0</td>\n",
       "      <td>0.0</td>\n",
       "      <td>0.0</td>\n",
       "      <td>0.0</td>\n",
       "      <td>0.0</td>\n",
       "    </tr>\n",
       "  </tbody>\n",
       "</table>\n",
       "<p>5 rows × 785 columns</p>\n",
       "</div>"
      ],
      "text/plain": [
       "   label  pixel1  pixel2  pixel3  pixel4  pixel5  pixel6  pixel7  pixel8  \\\n",
       "0    2.0     0.0     0.0     0.0     0.0     0.0     0.0     0.0     0.0   \n",
       "1    9.0     0.0     0.0     0.0     0.0     0.0     0.0     0.0     0.0   \n",
       "2    6.0     0.0     0.0     0.0     0.0     0.0     0.0     0.0     5.0   \n",
       "3    0.0     0.0     0.0     0.0     1.0     2.0     0.0     0.0     0.0   \n",
       "4    3.0     0.0     0.0     0.0     0.0     0.0     0.0     0.0     0.0   \n",
       "\n",
       "   pixel9  ...  pixel775  pixel776  pixel777  pixel778  pixel779  pixel780  \\\n",
       "0     0.0  ...       0.0       0.0       0.0       0.0       0.0       0.0   \n",
       "1     0.0  ...       0.0       0.0       0.0       0.0       0.0       0.0   \n",
       "2     0.0  ...       0.0       0.0       0.0      30.0      43.0       0.0   \n",
       "3     0.0  ...       3.0       0.0       0.0       0.0       0.0       1.0   \n",
       "4     0.0  ...       0.0       0.0       0.0       0.0       0.0       0.0   \n",
       "\n",
       "   pixel781  pixel782  pixel783  pixel784  \n",
       "0       0.0       0.0       0.0       0.0  \n",
       "1       0.0       0.0       0.0       0.0  \n",
       "2       0.0       0.0       0.0       0.0  \n",
       "3       0.0       0.0       0.0       0.0  \n",
       "4       0.0       0.0       0.0       0.0  \n",
       "\n",
       "[5 rows x 785 columns]"
      ]
     },
     "metadata": {},
     "output_type": "display_data"
    }
   ],
   "source": [
    "display(data.head())"
   ]
  },
  {
   "cell_type": "code",
   "execution_count": 8,
   "metadata": {
    "ExecuteTime": {
     "end_time": "2019-02-26T12:39:08.579200Z",
     "start_time": "2019-02-26T12:39:08.415175Z"
    }
   },
   "outputs": [],
   "source": [
    "y = pd.get_dummies(data['label'])"
   ]
  },
  {
   "cell_type": "code",
   "execution_count": 9,
   "metadata": {
    "ExecuteTime": {
     "end_time": "2019-02-26T12:39:08.843708Z",
     "start_time": "2019-02-26T12:39:08.581536Z"
    }
   },
   "outputs": [],
   "source": [
    "X = data.drop('label', axis=1)"
   ]
  },
  {
   "cell_type": "code",
   "execution_count": 10,
   "metadata": {
    "ExecuteTime": {
     "end_time": "2019-02-26T12:39:09.000508Z",
     "start_time": "2019-02-26T12:39:08.845707Z"
    },
    "scrolled": false
   },
   "outputs": [
    {
     "data": {
      "text/html": [
       "<div>\n",
       "<style scoped>\n",
       "    .dataframe tbody tr th:only-of-type {\n",
       "        vertical-align: middle;\n",
       "    }\n",
       "\n",
       "    .dataframe tbody tr th {\n",
       "        vertical-align: top;\n",
       "    }\n",
       "\n",
       "    .dataframe thead th {\n",
       "        text-align: right;\n",
       "    }\n",
       "</style>\n",
       "<table border=\"1\" class=\"dataframe\">\n",
       "  <thead>\n",
       "    <tr style=\"text-align: right;\">\n",
       "      <th></th>\n",
       "      <th>pixel1</th>\n",
       "      <th>pixel2</th>\n",
       "      <th>pixel3</th>\n",
       "      <th>pixel4</th>\n",
       "      <th>pixel5</th>\n",
       "      <th>pixel6</th>\n",
       "      <th>pixel7</th>\n",
       "      <th>pixel8</th>\n",
       "      <th>pixel9</th>\n",
       "      <th>pixel10</th>\n",
       "      <th>...</th>\n",
       "      <th>pixel775</th>\n",
       "      <th>pixel776</th>\n",
       "      <th>pixel777</th>\n",
       "      <th>pixel778</th>\n",
       "      <th>pixel779</th>\n",
       "      <th>pixel780</th>\n",
       "      <th>pixel781</th>\n",
       "      <th>pixel782</th>\n",
       "      <th>pixel783</th>\n",
       "      <th>pixel784</th>\n",
       "    </tr>\n",
       "  </thead>\n",
       "  <tbody>\n",
       "    <tr>\n",
       "      <th>0</th>\n",
       "      <td>0.0</td>\n",
       "      <td>0.0</td>\n",
       "      <td>0.0</td>\n",
       "      <td>0.0</td>\n",
       "      <td>0.0</td>\n",
       "      <td>0.0</td>\n",
       "      <td>0.0</td>\n",
       "      <td>0.0</td>\n",
       "      <td>0.0</td>\n",
       "      <td>0.0</td>\n",
       "      <td>...</td>\n",
       "      <td>0.0</td>\n",
       "      <td>0.0</td>\n",
       "      <td>0.0</td>\n",
       "      <td>0.0</td>\n",
       "      <td>0.0</td>\n",
       "      <td>0.0</td>\n",
       "      <td>0.0</td>\n",
       "      <td>0.0</td>\n",
       "      <td>0.0</td>\n",
       "      <td>0.0</td>\n",
       "    </tr>\n",
       "    <tr>\n",
       "      <th>1</th>\n",
       "      <td>0.0</td>\n",
       "      <td>0.0</td>\n",
       "      <td>0.0</td>\n",
       "      <td>0.0</td>\n",
       "      <td>0.0</td>\n",
       "      <td>0.0</td>\n",
       "      <td>0.0</td>\n",
       "      <td>0.0</td>\n",
       "      <td>0.0</td>\n",
       "      <td>0.0</td>\n",
       "      <td>...</td>\n",
       "      <td>0.0</td>\n",
       "      <td>0.0</td>\n",
       "      <td>0.0</td>\n",
       "      <td>0.0</td>\n",
       "      <td>0.0</td>\n",
       "      <td>0.0</td>\n",
       "      <td>0.0</td>\n",
       "      <td>0.0</td>\n",
       "      <td>0.0</td>\n",
       "      <td>0.0</td>\n",
       "    </tr>\n",
       "    <tr>\n",
       "      <th>2</th>\n",
       "      <td>0.0</td>\n",
       "      <td>0.0</td>\n",
       "      <td>0.0</td>\n",
       "      <td>0.0</td>\n",
       "      <td>0.0</td>\n",
       "      <td>0.0</td>\n",
       "      <td>0.0</td>\n",
       "      <td>5.0</td>\n",
       "      <td>0.0</td>\n",
       "      <td>0.0</td>\n",
       "      <td>...</td>\n",
       "      <td>0.0</td>\n",
       "      <td>0.0</td>\n",
       "      <td>0.0</td>\n",
       "      <td>30.0</td>\n",
       "      <td>43.0</td>\n",
       "      <td>0.0</td>\n",
       "      <td>0.0</td>\n",
       "      <td>0.0</td>\n",
       "      <td>0.0</td>\n",
       "      <td>0.0</td>\n",
       "    </tr>\n",
       "    <tr>\n",
       "      <th>3</th>\n",
       "      <td>0.0</td>\n",
       "      <td>0.0</td>\n",
       "      <td>0.0</td>\n",
       "      <td>1.0</td>\n",
       "      <td>2.0</td>\n",
       "      <td>0.0</td>\n",
       "      <td>0.0</td>\n",
       "      <td>0.0</td>\n",
       "      <td>0.0</td>\n",
       "      <td>0.0</td>\n",
       "      <td>...</td>\n",
       "      <td>3.0</td>\n",
       "      <td>0.0</td>\n",
       "      <td>0.0</td>\n",
       "      <td>0.0</td>\n",
       "      <td>0.0</td>\n",
       "      <td>1.0</td>\n",
       "      <td>0.0</td>\n",
       "      <td>0.0</td>\n",
       "      <td>0.0</td>\n",
       "      <td>0.0</td>\n",
       "    </tr>\n",
       "    <tr>\n",
       "      <th>4</th>\n",
       "      <td>0.0</td>\n",
       "      <td>0.0</td>\n",
       "      <td>0.0</td>\n",
       "      <td>0.0</td>\n",
       "      <td>0.0</td>\n",
       "      <td>0.0</td>\n",
       "      <td>0.0</td>\n",
       "      <td>0.0</td>\n",
       "      <td>0.0</td>\n",
       "      <td>0.0</td>\n",
       "      <td>...</td>\n",
       "      <td>0.0</td>\n",
       "      <td>0.0</td>\n",
       "      <td>0.0</td>\n",
       "      <td>0.0</td>\n",
       "      <td>0.0</td>\n",
       "      <td>0.0</td>\n",
       "      <td>0.0</td>\n",
       "      <td>0.0</td>\n",
       "      <td>0.0</td>\n",
       "      <td>0.0</td>\n",
       "    </tr>\n",
       "  </tbody>\n",
       "</table>\n",
       "<p>5 rows × 784 columns</p>\n",
       "</div>"
      ],
      "text/plain": [
       "   pixel1  pixel2  pixel3  pixel4  pixel5  pixel6  pixel7  pixel8  pixel9  \\\n",
       "0     0.0     0.0     0.0     0.0     0.0     0.0     0.0     0.0     0.0   \n",
       "1     0.0     0.0     0.0     0.0     0.0     0.0     0.0     0.0     0.0   \n",
       "2     0.0     0.0     0.0     0.0     0.0     0.0     0.0     5.0     0.0   \n",
       "3     0.0     0.0     0.0     1.0     2.0     0.0     0.0     0.0     0.0   \n",
       "4     0.0     0.0     0.0     0.0     0.0     0.0     0.0     0.0     0.0   \n",
       "\n",
       "   pixel10  ...  pixel775  pixel776  pixel777  pixel778  pixel779  pixel780  \\\n",
       "0      0.0  ...       0.0       0.0       0.0       0.0       0.0       0.0   \n",
       "1      0.0  ...       0.0       0.0       0.0       0.0       0.0       0.0   \n",
       "2      0.0  ...       0.0       0.0       0.0      30.0      43.0       0.0   \n",
       "3      0.0  ...       3.0       0.0       0.0       0.0       0.0       1.0   \n",
       "4      0.0  ...       0.0       0.0       0.0       0.0       0.0       0.0   \n",
       "\n",
       "   pixel781  pixel782  pixel783  pixel784  \n",
       "0       0.0       0.0       0.0       0.0  \n",
       "1       0.0       0.0       0.0       0.0  \n",
       "2       0.0       0.0       0.0       0.0  \n",
       "3       0.0       0.0       0.0       0.0  \n",
       "4       0.0       0.0       0.0       0.0  \n",
       "\n",
       "[5 rows x 784 columns]"
      ]
     },
     "metadata": {},
     "output_type": "display_data"
    },
    {
     "data": {
      "text/html": [
       "<div>\n",
       "<style scoped>\n",
       "    .dataframe tbody tr th:only-of-type {\n",
       "        vertical-align: middle;\n",
       "    }\n",
       "\n",
       "    .dataframe tbody tr th {\n",
       "        vertical-align: top;\n",
       "    }\n",
       "\n",
       "    .dataframe thead th {\n",
       "        text-align: right;\n",
       "    }\n",
       "</style>\n",
       "<table border=\"1\" class=\"dataframe\">\n",
       "  <thead>\n",
       "    <tr style=\"text-align: right;\">\n",
       "      <th></th>\n",
       "      <th>0.0</th>\n",
       "      <th>1.0</th>\n",
       "      <th>2.0</th>\n",
       "      <th>3.0</th>\n",
       "      <th>4.0</th>\n",
       "      <th>5.0</th>\n",
       "      <th>6.0</th>\n",
       "      <th>7.0</th>\n",
       "      <th>8.0</th>\n",
       "      <th>9.0</th>\n",
       "    </tr>\n",
       "  </thead>\n",
       "  <tbody>\n",
       "    <tr>\n",
       "      <th>0</th>\n",
       "      <td>0</td>\n",
       "      <td>0</td>\n",
       "      <td>1</td>\n",
       "      <td>0</td>\n",
       "      <td>0</td>\n",
       "      <td>0</td>\n",
       "      <td>0</td>\n",
       "      <td>0</td>\n",
       "      <td>0</td>\n",
       "      <td>0</td>\n",
       "    </tr>\n",
       "    <tr>\n",
       "      <th>1</th>\n",
       "      <td>0</td>\n",
       "      <td>0</td>\n",
       "      <td>0</td>\n",
       "      <td>0</td>\n",
       "      <td>0</td>\n",
       "      <td>0</td>\n",
       "      <td>0</td>\n",
       "      <td>0</td>\n",
       "      <td>0</td>\n",
       "      <td>1</td>\n",
       "    </tr>\n",
       "    <tr>\n",
       "      <th>2</th>\n",
       "      <td>0</td>\n",
       "      <td>0</td>\n",
       "      <td>0</td>\n",
       "      <td>0</td>\n",
       "      <td>0</td>\n",
       "      <td>0</td>\n",
       "      <td>1</td>\n",
       "      <td>0</td>\n",
       "      <td>0</td>\n",
       "      <td>0</td>\n",
       "    </tr>\n",
       "    <tr>\n",
       "      <th>3</th>\n",
       "      <td>1</td>\n",
       "      <td>0</td>\n",
       "      <td>0</td>\n",
       "      <td>0</td>\n",
       "      <td>0</td>\n",
       "      <td>0</td>\n",
       "      <td>0</td>\n",
       "      <td>0</td>\n",
       "      <td>0</td>\n",
       "      <td>0</td>\n",
       "    </tr>\n",
       "    <tr>\n",
       "      <th>4</th>\n",
       "      <td>0</td>\n",
       "      <td>0</td>\n",
       "      <td>0</td>\n",
       "      <td>1</td>\n",
       "      <td>0</td>\n",
       "      <td>0</td>\n",
       "      <td>0</td>\n",
       "      <td>0</td>\n",
       "      <td>0</td>\n",
       "      <td>0</td>\n",
       "    </tr>\n",
       "  </tbody>\n",
       "</table>\n",
       "</div>"
      ],
      "text/plain": [
       "   0.0  1.0  2.0  3.0  4.0  5.0  6.0  7.0  8.0  9.0\n",
       "0    0    0    1    0    0    0    0    0    0    0\n",
       "1    0    0    0    0    0    0    0    0    0    1\n",
       "2    0    0    0    0    0    0    1    0    0    0\n",
       "3    1    0    0    0    0    0    0    0    0    0\n",
       "4    0    0    0    1    0    0    0    0    0    0"
      ]
     },
     "metadata": {},
     "output_type": "display_data"
    }
   ],
   "source": [
    "display(X.head())\n",
    "display(y.head())"
   ]
  },
  {
   "cell_type": "code",
   "execution_count": 11,
   "metadata": {
    "ExecuteTime": {
     "end_time": "2019-02-26T12:39:09.385984Z",
     "start_time": "2019-02-26T12:39:09.003482Z"
    }
   },
   "outputs": [],
   "source": [
    "X_train, X_test, y_train, y_test = train_test_split(\n",
    "    X, y, test_size=0.2, random_state=42)"
   ]
  },
  {
   "cell_type": "code",
   "execution_count": 21,
   "metadata": {
    "ExecuteTime": {
     "end_time": "2019-02-26T12:47:16.771313Z",
     "start_time": "2019-02-26T12:47:16.753061Z"
    }
   },
   "outputs": [],
   "source": [
    "model_tanh = NeuralNetwork(iterations=20, alpha=0.05, batch_size=50)"
   ]
  },
  {
   "cell_type": "code",
   "execution_count": 22,
   "metadata": {
    "ExecuteTime": {
     "end_time": "2019-02-26T12:47:17.309137Z",
     "start_time": "2019-02-26T12:47:17.262505Z"
    }
   },
   "outputs": [],
   "source": [
    "model_tanh.add_layer(256, 784, \"tanh\")\n",
    "model_tanh.add_layer(128, 256, \"tanh\")\n",
    "model_tanh.add_layer(64, 128, \"tanh\")\n",
    "# model.add_layer(50, 100, \"sigmoid\")\n",
    "model_tanh.add_layer(10, 64, \"softmax\")"
   ]
  },
  {
   "cell_type": "code",
   "execution_count": 23,
   "metadata": {
    "ExecuteTime": {
     "end_time": "2019-02-26T12:49:22.392716Z",
     "start_time": "2019-02-26T12:47:17.806825Z"
    }
   },
   "outputs": [
    {
     "name": "stdout",
     "output_type": "stream",
     "text": [
      "Iteration Number:  1\n",
      "###############Iteration Number:  2\n",
      "###############Iteration Number:  3\n",
      "###############Iteration Number:  4\n",
      "###############Iteration Number:  5\n",
      "###############Iteration Number:  6\n",
      "###############Iteration Number:  7\n",
      "###############Iteration Number:  8\n",
      "###############Iteration Number:  9\n",
      "###############Iteration Number:  10\n",
      "###############Iteration Number:  11\n",
      "###############Iteration Number:  12\n",
      "###############Iteration Number:  13\n",
      "###############Iteration Number:  14\n",
      "###############Iteration Number:  15\n",
      "###############Iteration Number:  16\n",
      "###############Iteration Number:  17\n",
      "###############Iteration Number:  18\n",
      "###############Iteration Number:  19\n",
      "###############Iteration Number:  20\n",
      "###############"
     ]
    },
    {
     "data": {
      "image/png": "[encoded data removed]",
      "text/plain": [
       "<Figure size 432x288 with 1 Axes>"
      ]
     },
     "metadata": {},
     "output_type": "display_data"
    }
   ],
   "source": [
    "model_tanh.fit(X_train, y_train)"
   ]
  },
  {
   "cell_type": "code",
   "execution_count": 24,
   "metadata": {
    "ExecuteTime": {
     "end_time": "2019-02-26T12:49:23.588040Z",
     "start_time": "2019-02-26T12:49:22.396202Z"
    }
   },
   "outputs": [],
   "source": [
    "with open('tanh.pkl', 'wb') as output:\n",
    "    pickle.dump(model_tanh, output, pickle.HIGHEST_PROTOCOL)"
   ]
  },
  {
   "cell_type": "code",
   "execution_count": 25,
   "metadata": {
    "ExecuteTime": {
     "end_time": "2019-02-26T12:49:24.670143Z",
     "start_time": "2019-02-26T12:49:23.589583Z"
    }
   },
   "outputs": [
    {
     "name": "stdout",
     "output_type": "stream",
     "text": [
      "Accuracy :  88.36666666666667\n"
     ]
    }
   ],
   "source": [
    "y_pred = model_tanh.predict(X_test)\n",
    "print(\"Accuracy : \",model_tanh.calculate_accuracy(y_pred, y_test)*100)"
   ]
  },
  {
   "cell_type": "code",
   "execution_count": 26,
   "metadata": {
    "ExecuteTime": {
     "end_time": "2019-02-26T12:49:24.694101Z",
     "start_time": "2019-02-26T12:49:24.673246Z"
    }
   },
   "outputs": [],
   "source": [
    "model_sigmoid = NeuralNetwork(iterations=20, alpha=0.2, batch_size=50)\n",
    "model_sigmoid.add_layer(256, 784, \"sigmoid\")\n",
    "model_sigmoid.add_layer(128, 256, \"sigmoid\")\n",
    "model_sigmoid.add_layer(64, 128, \"sigmoid\")\n",
    "# model.add_layer(50, 100, \"sigmoid\")\n",
    "model_sigmoid.add_layer(10, 64, \"softmax\")"
   ]
  },
  {
   "cell_type": "code",
   "execution_count": 27,
   "metadata": {
    "ExecuteTime": {
     "end_time": "2019-02-26T12:51:44.629920Z",
     "start_time": "2019-02-26T12:49:24.701378Z"
    }
   },
   "outputs": [
    {
     "name": "stdout",
     "output_type": "stream",
     "text": [
      "Iteration Number:  1\n",
      "###############Iteration Number:  2\n",
      "###############Iteration Number:  3\n",
      "###############Iteration Number:  4\n",
      "###############Iteration Number:  5\n",
      "###############Iteration Number:  6\n",
      "###############Iteration Number:  7\n",
      "###############Iteration Number:  8\n",
      "###############Iteration Number:  9\n",
      "###############Iteration Number:  10\n",
      "###############Iteration Number:  11\n",
      "###############Iteration Number:  12\n",
      "###############Iteration Number:  13\n",
      "###############Iteration Number:  14\n",
      "###############Iteration Number:  15\n",
      "###############Iteration Number:  16\n",
      "###############Iteration Number:  17\n",
      "###############Iteration Number:  18\n",
      "###############Iteration Number:  19\n",
      "###############Iteration Number:  20\n",
      "###############"
     ]
    },
    {
     "data": {
      "image/png": "[encoded data removed]",
      "text/plain": [
       "<Figure size 432x288 with 1 Axes>"
      ]
     },
     "metadata": {},
     "output_type": "display_data"
    }
   ],
   "source": [
    "model_sigmoid.fit(X_train, y_train)"
   ]
  },
  {
   "cell_type": "code",
   "execution_count": 28,
   "metadata": {
    "ExecuteTime": {
     "end_time": "2019-02-26T12:51:45.715228Z",
     "start_time": "2019-02-26T12:51:44.631553Z"
    }
   },
   "outputs": [],
   "source": [
    "with open('sigmoid.pkl', 'wb') as output:\n",
    "    pickle.dump(model_sigmoid, output, pickle.HIGHEST_PROTOCOL)"
   ]
  },
  {
   "cell_type": "code",
   "execution_count": 29,
   "metadata": {
    "ExecuteTime": {
     "end_time": "2019-02-26T12:51:47.359795Z",
     "start_time": "2019-02-26T12:51:45.718472Z"
    }
   },
   "outputs": [
    {
     "name": "stdout",
     "output_type": "stream",
     "text": [
      "Accuracy :  84.38333333333333\n"
     ]
    }
   ],
   "source": [
    "y_pred = model_sigmoid.predict(X_test)\n",
    "print(\"Accuracy : \",model_sigmoid.calculate_accuracy(y_pred, y_test)*100)"
   ]
  },
  {
   "cell_type": "code",
   "execution_count": 30,
   "metadata": {
    "ExecuteTime": {
     "end_time": "2019-02-26T12:51:47.365429Z",
     "start_time": "2019-02-26T12:51:47.361987Z"
    }
   },
   "outputs": [],
   "source": [
    "model_relu = NeuralNetwork(iterations=20, alpha=0.01, batch_size=50)"
   ]
  },
  {
   "cell_type": "code",
   "execution_count": 31,
   "metadata": {
    "ExecuteTime": {
     "end_time": "2019-02-26T12:51:47.885330Z",
     "start_time": "2019-02-26T12:51:47.367445Z"
    }
   },
   "outputs": [],
   "source": [
    "model_relu.add_layer(256, 784, \"relu\")\n",
    "model_relu.add_layer(128, 256, \"relu\")\n",
    "model_relu.add_layer(64, 128, \"relu\")\n",
    "model_relu.add_layer(10, 64, \"softmax\")"
   ]
  },
  {
   "cell_type": "code",
   "execution_count": 32,
   "metadata": {
    "ExecuteTime": {
     "end_time": "2019-02-26T12:53:54.431820Z",
     "start_time": "2019-02-26T12:51:47.887632Z"
    }
   },
   "outputs": [
    {
     "name": "stdout",
     "output_type": "stream",
     "text": [
      "Iteration Number:  1\n",
      "###############Iteration Number:  2\n",
      "###############Iteration Number:  3\n",
      "###############Iteration Number:  4\n",
      "###############Iteration Number:  5\n",
      "###############Iteration Number:  6\n",
      "###############Iteration Number:  7\n",
      "###############Iteration Number:  8\n",
      "###############Iteration Number:  9\n",
      "###############Iteration Number:  10\n",
      "###############Iteration Number:  11\n",
      "###############Iteration Number:  12\n",
      "###############Iteration Number:  13\n",
      "###############Iteration Number:  14\n",
      "###############Iteration Number:  15\n",
      "###############Iteration Number:  16\n",
      "###############Iteration Number:  17\n",
      "###############Iteration Number:  18\n",
      "###############Iteration Number:  19\n",
      "###############Iteration Number:  20\n",
      "###############"
     ]
    },
    {
     "data": {
      "image/png": "[encoded data removed]",
      "text/plain": [
       "<Figure size 432x288 with 1 Axes>"
      ]
     },
     "metadata": {},
     "output_type": "display_data"
    }
   ],
   "source": [
    "model_relu.fit(X_train, y_train)"
   ]
  },
  {
   "cell_type": "code",
   "execution_count": 33,
   "metadata": {
    "ExecuteTime": {
     "end_time": "2019-02-26T12:53:55.570042Z",
     "start_time": "2019-02-26T12:53:54.433822Z"
    }
   },
   "outputs": [],
   "source": [
    "with open('relu.pkl', 'wb') as output:\n",
    "    pickle.dump(model_relu, output, pickle.HIGHEST_PROTOCOL)"
   ]
  },
  {
   "cell_type": "code",
   "execution_count": 34,
   "metadata": {
    "ExecuteTime": {
     "end_time": "2019-02-26T12:53:57.447253Z",
     "start_time": "2019-02-26T12:53:55.575022Z"
    }
   },
   "outputs": [
    {
     "name": "stdout",
     "output_type": "stream",
     "text": [
      "Accuracy :  87.26666666666667\n"
     ]
    }
   ],
   "source": [
    "y_pred = model_relu.predict(X_test)\n",
    "print(\"Accuracy : \",model_relu.calculate_accuracy(y_pred, y_test)*100)"
   ]
  },
  {
   "cell_type": "markdown",
   "metadata": {},
   "source": [
    "## Best performing Architecture for Neural Network\n",
    "model_tanh.add_layer(10, 64, \"softmax\")\n",
    "- Best performing architecture has 3 hidden layer\n",
    "- All these layer have tanh as activation function\n",
    "- Loss function used is Cross Entropy loss\n",
    "- Dimensions of layer \n",
    "- - Hidden Layer 1 : 784 * 256\n",
    "- - Hidden Layer 2 : 256 * 128\n",
    "- - Hidden Layer 3 : 128 * 64\n",
    "- - Output Layer   : 64 * 10"
   ]
  },
  {
   "cell_type": "markdown",
   "metadata": {},
   "source": [
    "## Effect of various activation function in hidden layer:\n",
    "Different layers more or less perform decent. However, tanh seems to outperform others. Sigmoid is a slow learner function so with less number of iteration it is predicting comparitevely less accurately. However the fastest convergence is observent in Relu. \n",
    "#### Results on validation data:\n",
    "- Tanh 88.11%\n",
    "- sigmoid 83.75%\n",
    "- Relu 86.90%"
   ]
  },
  {
   "cell_type": "markdown",
   "metadata": {},
   "source": [
    "## Effect on Loss and Error of validation data with increasing number of layers\n",
    "- With increasing number of layers the error and loss decrease in general. Thus model is able to fit the data.\n",
    "- However after large number of layers it is increasing because of overfitting.\n",
    "- Error function is smooth as compare to loss function."
   ]
  },
  {
   "cell_type": "code",
   "execution_count": 21,
   "metadata": {
    "ExecuteTime": {
     "end_time": "2019-02-26T06:37:03.931297Z",
     "start_time": "2019-02-26T06:36:34.475762Z"
    }
   },
   "outputs": [],
   "source": [
    "loss = []\n",
    "error = []\n",
    "for n_layers in range(1,11,1):\n",
    "    model = NeuralNetwork(iterations=20, alpha=0.01, batch_size=50)\n",
    "    model.add_layer(32, 784, \"tanh\")\n",
    "    for i in range(n_layers):\n",
    "        model.add_layer(32, 32, \"tanh\")\n",
    "    model.add_layer(10, 32, \"softmax\")\n",
    "    model.fit(X_train, y_train)\n",
    "    y_pred = model.predict(X_test)\n",
    "    loss.append(model.compute_cost(y_pred.T, (y_test.values).T))\n",
    "#     print(loss)\n",
    "    error.append(1.0 - model.calculate_accuracy(y_pred, y_test))"
   ]
  },
  {
   "cell_type": "code",
   "execution_count": 22,
   "metadata": {
    "ExecuteTime": {
     "end_time": "2019-02-26T06:37:03.937243Z",
     "start_time": "2019-02-26T06:34:40.327Z"
    }
   },
   "outputs": [
    {
     "data": {
      "image/png": "[encoded data removed]",
      "text/plain": [
       "<Figure size 432x288 with 1 Axes>"
      ]
     },
     "metadata": {
      "needs_background": "light"
     },
     "output_type": "display_data"
    }
   ],
   "source": [
    "plt.plot([i for i in range(1,11,1)], error, label =\"Error\")\n",
    "plt.legend(loc = \"best\")\n",
    "plt.ylabel(\"Error\")\n",
    "plt.xlabel(\"No. of layers\")\n",
    "plt.show()"
   ]
  },
  {
   "cell_type": "code",
   "execution_count": 23,
   "metadata": {},
   "outputs": [
    {
     "data": {
      "image/png": "[encoded data removed]",
      "text/plain": [
       "<Figure size 432x288 with 1 Axes>"
      ]
     },
     "metadata": {
      "needs_background": "light"
     },
     "output_type": "display_data"
    }
   ],
   "source": [
    "plt.plot([i for i in range(1,11,1)], loss, label =\"Cost\")\n",
    "plt.legend(loc = \"best\")\n",
    "plt.ylabel(\"Error\")\n",
    "plt.xlabel(\"No. of layers\")\n",
    "plt.show()"
   ]
  },
  {
   "cell_type": "markdown",
   "metadata": {},
   "source": [
    "## Error on validation data with increasing Epochs\n",
    "- With increasing epochs the error is decreasing.\n",
    "- After 50 iterations the error seems to become constant.\n",
    "- It is because after certain iterations the model is not learning new things."
   ]
  },
  {
   "cell_type": "code",
   "execution_count": 24,
   "metadata": {},
   "outputs": [],
   "source": [
    "model = NeuralNetwork(iterations=1, alpha=0.05, batch_size=50)\n",
    "model.add_layer(256, 784, \"tanh\")\n",
    "model.add_layer(128, 256, \"tanh\")\n",
    "model.add_layer(64, 128, \"tanh\")\n",
    "# model.add_layer(50, 100, \"sigmoid\")\n",
    "model.add_layer(10, 64, \"softmax\")\n",
    "alpha = 0.05\n",
    "error = []\n",
    "for iteration in range(100):\n",
    "    model.change_alpha(alpha/(1+iteration))\n",
    "    model.fit(X_train, y_train)\n",
    "    y_pred = model.predict(X_test)\n",
    "    error.append(1.0 - model.calculate_accuracy(y_pred, y_test))"
   ]
  },
  {
   "cell_type": "code",
   "execution_count": 25,
   "metadata": {
    "scrolled": true
   },
   "outputs": [
    {
     "data": {
      "image/png": "[encoded data removed]",
      "text/plain": [
       "<Figure size 432x288 with 1 Axes>"
      ]
     },
     "metadata": {
      "needs_background": "light"
     },
     "output_type": "display_data"
    }
   ],
   "source": [
    "plt.plot([i for i in range(100)], error, label =\"Error\")\n",
    "plt.legend(loc = \"best\")\n",
    "plt.ylabel(\"Error\")\n",
    "plt.xlabel(\"No. of layers\")\n",
    "plt.show()"
   ]
  },
  {
   "cell_type": "code",
   "execution_count": 35,
   "metadata": {
    "ExecuteTime": {
     "end_time": "2019-02-26T12:54:00.780906Z",
     "start_time": "2019-02-26T12:53:57.449627Z"
    },
    "scrolled": true
   },
   "outputs": [],
   "source": [
    "TEST_DATA = pd.read_csv(\"apparel-test.csv\")\n",
    "y_tanh = np.argmax(model_tanh.predict(TEST_DATA), axis=1).flatten()\n",
    "y_relu = np.argmax(model_relu.predict(TEST_DATA), axis=1).flatten()\n",
    "y_sigmoid = np.argmax(model_sigmoid.predict(TEST_DATA), axis=1).flatten()\n",
    "output = pd.DataFrame()\n",
    "output['tanh'] = y_tanh\n",
    "output['relu'] = y_relu\n",
    "output['sigmoid'] = y_sigmoid"
   ]
  },
  {
   "cell_type": "code",
   "execution_count": 38,
   "metadata": {
    "ExecuteTime": {
     "end_time": "2019-02-26T12:57:42.914812Z",
     "start_time": "2019-02-26T12:57:42.874919Z"
    }
   },
   "outputs": [],
   "source": [
    "np.savetxt(\"output.csv\", np.int32(y_tanh))"
   ]
  },
  {
   "cell_type": "code",
   "execution_count": 42,
   "metadata": {
    "ExecuteTime": {
     "end_time": "2019-02-26T13:00:29.623901Z",
     "start_time": "2019-02-26T13:00:28.043204Z"
    }
   },
   "outputs": [
    {
     "name": "stdout",
     "output_type": "stream",
     "text": [
      "0.8836666666666667\n"
     ]
    }
   ],
   "source": [
    "tanh_file = open('tanh.pkl',\"rb\")\n",
    "model_loaded = pickle.load(tanh_file)\n",
    "y_pred_loaded = model_loaded.predict(X_test)\n",
    "print(model_loaded.calculate_accuracy(y_pred_loaded, y_test))"
   ]
  },
  {
   "cell_type": "markdown",
   "metadata": {},
   "source": [
    "# Question 2:\n",
    "Since it is a regression problem, by keeping the output activation function as f(x) = x will give a linear combination of the hidden layer note, hence giving linear regression with Neural networks.\n",
    "     \n",
    " <br>\n",
    "The hidden layer activations can be anything, but it would be preferable to use the function f(x) = x as it is more intuitive for a linear regression, i.e linear combination of input features.\n",
    "\n",
    "<br>\n",
    "\n",
    "However one thing to nore is that price of house can't be negative so we can use RELU activation fucntion at output layer as it is essentially a linear function of values > 0.\n",
    "="
   ]
  },
  {
   "cell_type": "code",
   "execution_count": null,
   "metadata": {},
   "outputs": [],
   "source": []
  }
 ],
 "metadata": {
  "kernelspec": {
   "display_name": "Python 3",
   "language": "python",
   "name": "python3"
  },
  "language_info": {
   "codemirror_mode": {
    "name": "ipython",
    "version": 3
   },
   "file_extension": ".py",
   "mimetype": "text/x-python",
   "name": "python",
   "nbconvert_exporter": "python",
   "pygments_lexer": "ipython3",
   "version": "3.6.8"
  },
  "latex_envs": {
   "LaTeX_envs_menu_present": true,
   "autoclose": false,
   "autocomplete": true,
   "bibliofile": "biblio.bib",
   "cite_by": "apalike",
   "current_citInitial": 1,
   "eqLabelWithNumbers": true,
   "eqNumInitial": 1,
   "hotkeys": {
    "equation": "Ctrl-E",
    "itemize": "Ctrl-I"
   },
   "labels_anchors": false,
   "latex_user_defs": false,
   "report_style_numbering": false,
   "user_envs_cfg": false
  }
 },
 "nbformat": 4,
 "nbformat_minor": 2
}
