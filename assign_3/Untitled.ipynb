{
 "cells": [
  {
   "cell_type": "markdown",
   "metadata": {},
   "source": [
    "# Assignment -3"
   ]
  },
  {
   "cell_type": "code",
   "execution_count": 1,
   "metadata": {
    "ExecuteTime": {
     "end_time": "2019-03-19T15:23:09.769633Z",
     "start_time": "2019-03-19T15:23:05.343735Z"
    }
   },
   "outputs": [],
   "source": [
    "import numpy as np\n",
    "import pandas as pd\n",
    "import matplotlib.pyplot as plt\n",
    "import random\n",
    "import functools\n",
    "from sklearn.mixture import GaussianMixture\n",
    "from sklearn.cluster import AgglomerativeClustering\n",
    "from sklearn.metrics import confusion_matrix, accuracy_score, f1_score\n",
    "from sklearn.metrics import precision_score, recall_score, r2_score\n",
    "from heapq import heappush, heappop"
   ]
  },
  {
   "cell_type": "markdown",
   "metadata": {},
   "source": [
    "# Question 1"
   ]
  },
  {
   "cell_type": "markdown",
   "metadata": {},
   "source": [
    "### Data reading"
   ]
  },
  {
   "cell_type": "code",
   "execution_count": 2,
   "metadata": {
    "ExecuteTime": {
     "end_time": "2019-02-17T14:21:40.752998Z",
     "start_time": "2019-02-17T14:21:40.643107Z"
    }
   },
   "outputs": [],
   "source": [
    "data = pd.read_csv(\"data.csv\")"
   ]
  },
  {
   "cell_type": "code",
   "execution_count": 3,
   "metadata": {
    "ExecuteTime": {
     "end_time": "2019-02-17T14:21:40.977682Z",
     "start_time": "2019-02-17T14:21:40.755287Z"
    },
    "scrolled": true
   },
   "outputs": [
    {
     "data": {
      "text/html": [
       "<div>\n",
       "<style scoped>\n",
       "    .dataframe tbody tr th:only-of-type {\n",
       "        vertical-align: middle;\n",
       "    }\n",
       "\n",
       "    .dataframe tbody tr th {\n",
       "        vertical-align: top;\n",
       "    }\n",
       "\n",
       "    .dataframe thead th {\n",
       "        text-align: right;\n",
       "    }\n",
       "</style>\n",
       "<table border=\"1\" class=\"dataframe\">\n",
       "  <thead>\n",
       "    <tr style=\"text-align: right;\">\n",
       "      <th></th>\n",
       "      <th>duration</th>\n",
       "      <th>service</th>\n",
       "      <th>src_bytes</th>\n",
       "      <th>dst_bytes</th>\n",
       "      <th>hot</th>\n",
       "      <th>num_failed_logins</th>\n",
       "      <th>num_compromised</th>\n",
       "      <th>num_root</th>\n",
       "      <th>num_file_creations</th>\n",
       "      <th>num_access_files</th>\n",
       "      <th>...</th>\n",
       "      <th>dst_host_srv_count</th>\n",
       "      <th>dst_host_same_srv_rate</th>\n",
       "      <th>dst_host_diff_srv_rate</th>\n",
       "      <th>dst_host_same_src_port_rate</th>\n",
       "      <th>dst_host_srv_diff_host_rate</th>\n",
       "      <th>dst_host_serror_rate</th>\n",
       "      <th>dst_host_srv_serror_rate</th>\n",
       "      <th>dst_host_rerror_rate</th>\n",
       "      <th>dst_host_srv_rerror_rate</th>\n",
       "      <th>xAttack</th>\n",
       "    </tr>\n",
       "  </thead>\n",
       "  <tbody>\n",
       "    <tr>\n",
       "      <th>0</th>\n",
       "      <td>0</td>\n",
       "      <td>25</td>\n",
       "      <td>193</td>\n",
       "      <td>441</td>\n",
       "      <td>0</td>\n",
       "      <td>0</td>\n",
       "      <td>0</td>\n",
       "      <td>0</td>\n",
       "      <td>0</td>\n",
       "      <td>0</td>\n",
       "      <td>...</td>\n",
       "      <td>255</td>\n",
       "      <td>1.00</td>\n",
       "      <td>0.00</td>\n",
       "      <td>0.07</td>\n",
       "      <td>0.04</td>\n",
       "      <td>0.00</td>\n",
       "      <td>0.04</td>\n",
       "      <td>0.0</td>\n",
       "      <td>0.0</td>\n",
       "      <td>normal</td>\n",
       "    </tr>\n",
       "    <tr>\n",
       "      <th>1</th>\n",
       "      <td>0</td>\n",
       "      <td>38</td>\n",
       "      <td>0</td>\n",
       "      <td>0</td>\n",
       "      <td>0</td>\n",
       "      <td>0</td>\n",
       "      <td>0</td>\n",
       "      <td>0</td>\n",
       "      <td>0</td>\n",
       "      <td>0</td>\n",
       "      <td>...</td>\n",
       "      <td>1</td>\n",
       "      <td>0.00</td>\n",
       "      <td>0.07</td>\n",
       "      <td>0.00</td>\n",
       "      <td>0.00</td>\n",
       "      <td>0.00</td>\n",
       "      <td>0.00</td>\n",
       "      <td>1.0</td>\n",
       "      <td>1.0</td>\n",
       "      <td>dos</td>\n",
       "    </tr>\n",
       "    <tr>\n",
       "      <th>2</th>\n",
       "      <td>0</td>\n",
       "      <td>25</td>\n",
       "      <td>167</td>\n",
       "      <td>9724</td>\n",
       "      <td>0</td>\n",
       "      <td>0</td>\n",
       "      <td>0</td>\n",
       "      <td>0</td>\n",
       "      <td>0</td>\n",
       "      <td>0</td>\n",
       "      <td>...</td>\n",
       "      <td>255</td>\n",
       "      <td>1.00</td>\n",
       "      <td>0.00</td>\n",
       "      <td>0.03</td>\n",
       "      <td>0.06</td>\n",
       "      <td>0.00</td>\n",
       "      <td>0.00</td>\n",
       "      <td>0.0</td>\n",
       "      <td>0.0</td>\n",
       "      <td>normal</td>\n",
       "    </tr>\n",
       "    <tr>\n",
       "      <th>3</th>\n",
       "      <td>0</td>\n",
       "      <td>20</td>\n",
       "      <td>1339</td>\n",
       "      <td>0</td>\n",
       "      <td>0</td>\n",
       "      <td>0</td>\n",
       "      <td>0</td>\n",
       "      <td>0</td>\n",
       "      <td>0</td>\n",
       "      <td>0</td>\n",
       "      <td>...</td>\n",
       "      <td>31</td>\n",
       "      <td>0.23</td>\n",
       "      <td>0.04</td>\n",
       "      <td>0.23</td>\n",
       "      <td>0.00</td>\n",
       "      <td>0.02</td>\n",
       "      <td>0.00</td>\n",
       "      <td>0.0</td>\n",
       "      <td>0.0</td>\n",
       "      <td>normal</td>\n",
       "    </tr>\n",
       "    <tr>\n",
       "      <th>4</th>\n",
       "      <td>0</td>\n",
       "      <td>37</td>\n",
       "      <td>0</td>\n",
       "      <td>0</td>\n",
       "      <td>0</td>\n",
       "      <td>0</td>\n",
       "      <td>0</td>\n",
       "      <td>0</td>\n",
       "      <td>0</td>\n",
       "      <td>0</td>\n",
       "      <td>...</td>\n",
       "      <td>25</td>\n",
       "      <td>0.10</td>\n",
       "      <td>0.05</td>\n",
       "      <td>0.00</td>\n",
       "      <td>0.00</td>\n",
       "      <td>1.00</td>\n",
       "      <td>1.00</td>\n",
       "      <td>0.0</td>\n",
       "      <td>0.0</td>\n",
       "      <td>dos</td>\n",
       "    </tr>\n",
       "  </tbody>\n",
       "</table>\n",
       "<p>5 rows × 30 columns</p>\n",
       "</div>"
      ],
      "text/plain": [
       "   duration  service  src_bytes  dst_bytes  hot  num_failed_logins  \\\n",
       "0         0       25        193        441    0                  0   \n",
       "1         0       38          0          0    0                  0   \n",
       "2         0       25        167       9724    0                  0   \n",
       "3         0       20       1339          0    0                  0   \n",
       "4         0       37          0          0    0                  0   \n",
       "\n",
       "   num_compromised  num_root  num_file_creations  num_access_files  ...  \\\n",
       "0                0         0                   0                 0  ...   \n",
       "1                0         0                   0                 0  ...   \n",
       "2                0         0                   0                 0  ...   \n",
       "3                0         0                   0                 0  ...   \n",
       "4                0         0                   0                 0  ...   \n",
       "\n",
       "   dst_host_srv_count  dst_host_same_srv_rate  dst_host_diff_srv_rate  \\\n",
       "0                 255                    1.00                    0.00   \n",
       "1                   1                    0.00                    0.07   \n",
       "2                 255                    1.00                    0.00   \n",
       "3                  31                    0.23                    0.04   \n",
       "4                  25                    0.10                    0.05   \n",
       "\n",
       "   dst_host_same_src_port_rate  dst_host_srv_diff_host_rate  \\\n",
       "0                         0.07                         0.04   \n",
       "1                         0.00                         0.00   \n",
       "2                         0.03                         0.06   \n",
       "3                         0.23                         0.00   \n",
       "4                         0.00                         0.00   \n",
       "\n",
       "   dst_host_serror_rate  dst_host_srv_serror_rate  dst_host_rerror_rate  \\\n",
       "0                  0.00                      0.04                   0.0   \n",
       "1                  0.00                      0.00                   1.0   \n",
       "2                  0.00                      0.00                   0.0   \n",
       "3                  0.02                      0.00                   0.0   \n",
       "4                  1.00                      1.00                   0.0   \n",
       "\n",
       "   dst_host_srv_rerror_rate  xAttack  \n",
       "0                       0.0   normal  \n",
       "1                       1.0      dos  \n",
       "2                       0.0   normal  \n",
       "3                       0.0   normal  \n",
       "4                       0.0      dos  \n",
       "\n",
       "[5 rows x 30 columns]"
      ]
     },
     "metadata": {},
     "output_type": "display_data"
    },
    {
     "data": {
      "text/html": [
       "<div>\n",
       "<style scoped>\n",
       "    .dataframe tbody tr th:only-of-type {\n",
       "        vertical-align: middle;\n",
       "    }\n",
       "\n",
       "    .dataframe tbody tr th {\n",
       "        vertical-align: top;\n",
       "    }\n",
       "\n",
       "    .dataframe thead th {\n",
       "        text-align: right;\n",
       "    }\n",
       "</style>\n",
       "<table border=\"1\" class=\"dataframe\">\n",
       "  <thead>\n",
       "    <tr style=\"text-align: right;\">\n",
       "      <th></th>\n",
       "      <th>duration</th>\n",
       "      <th>service</th>\n",
       "      <th>src_bytes</th>\n",
       "      <th>dst_bytes</th>\n",
       "      <th>hot</th>\n",
       "      <th>num_failed_logins</th>\n",
       "      <th>num_compromised</th>\n",
       "      <th>num_root</th>\n",
       "      <th>num_file_creations</th>\n",
       "      <th>num_access_files</th>\n",
       "      <th>...</th>\n",
       "      <th>dst_host_count</th>\n",
       "      <th>dst_host_srv_count</th>\n",
       "      <th>dst_host_same_srv_rate</th>\n",
       "      <th>dst_host_diff_srv_rate</th>\n",
       "      <th>dst_host_same_src_port_rate</th>\n",
       "      <th>dst_host_srv_diff_host_rate</th>\n",
       "      <th>dst_host_serror_rate</th>\n",
       "      <th>dst_host_srv_serror_rate</th>\n",
       "      <th>dst_host_rerror_rate</th>\n",
       "      <th>dst_host_srv_rerror_rate</th>\n",
       "    </tr>\n",
       "  </thead>\n",
       "  <tbody>\n",
       "    <tr>\n",
       "      <th>count</th>\n",
       "      <td>24998.000000</td>\n",
       "      <td>24998.000000</td>\n",
       "      <td>2.499800e+04</td>\n",
       "      <td>2.499800e+04</td>\n",
       "      <td>24998.000000</td>\n",
       "      <td>24998.000000</td>\n",
       "      <td>24998.000000</td>\n",
       "      <td>24998.000000</td>\n",
       "      <td>24998.000000</td>\n",
       "      <td>24998.000000</td>\n",
       "      <td>...</td>\n",
       "      <td>24998.000000</td>\n",
       "      <td>24998.000000</td>\n",
       "      <td>24998.000000</td>\n",
       "      <td>24998.000000</td>\n",
       "      <td>24998.000000</td>\n",
       "      <td>24998.000000</td>\n",
       "      <td>24998.000000</td>\n",
       "      <td>24998.000000</td>\n",
       "      <td>24998.000000</td>\n",
       "      <td>24998.000000</td>\n",
       "    </tr>\n",
       "    <tr>\n",
       "      <th>mean</th>\n",
       "      <td>310.648452</td>\n",
       "      <td>32.024842</td>\n",
       "      <td>2.442409e+04</td>\n",
       "      <td>3.305597e+03</td>\n",
       "      <td>0.193535</td>\n",
       "      <td>0.001200</td>\n",
       "      <td>0.229418</td>\n",
       "      <td>0.251700</td>\n",
       "      <td>0.014841</td>\n",
       "      <td>0.004360</td>\n",
       "      <td>...</td>\n",
       "      <td>182.405832</td>\n",
       "      <td>115.254580</td>\n",
       "      <td>0.520648</td>\n",
       "      <td>0.083117</td>\n",
       "      <td>0.148392</td>\n",
       "      <td>0.032109</td>\n",
       "      <td>0.284272</td>\n",
       "      <td>0.278418</td>\n",
       "      <td>0.118272</td>\n",
       "      <td>0.119189</td>\n",
       "    </tr>\n",
       "    <tr>\n",
       "      <th>std</th>\n",
       "      <td>2712.235502</td>\n",
       "      <td>16.493033</td>\n",
       "      <td>2.420103e+06</td>\n",
       "      <td>8.301712e+04</td>\n",
       "      <td>2.127846</td>\n",
       "      <td>0.045594</td>\n",
       "      <td>10.457662</td>\n",
       "      <td>11.545358</td>\n",
       "      <td>0.531652</td>\n",
       "      <td>0.098905</td>\n",
       "      <td>...</td>\n",
       "      <td>99.046209</td>\n",
       "      <td>110.659088</td>\n",
       "      <td>0.449020</td>\n",
       "      <td>0.188442</td>\n",
       "      <td>0.309335</td>\n",
       "      <td>0.111102</td>\n",
       "      <td>0.444531</td>\n",
       "      <td>0.445374</td>\n",
       "      <td>0.306349</td>\n",
       "      <td>0.317858</td>\n",
       "    </tr>\n",
       "    <tr>\n",
       "      <th>min</th>\n",
       "      <td>0.000000</td>\n",
       "      <td>1.000000</td>\n",
       "      <td>0.000000e+00</td>\n",
       "      <td>0.000000e+00</td>\n",
       "      <td>0.000000</td>\n",
       "      <td>0.000000</td>\n",
       "      <td>0.000000</td>\n",
       "      <td>0.000000</td>\n",
       "      <td>0.000000</td>\n",
       "      <td>0.000000</td>\n",
       "      <td>...</td>\n",
       "      <td>0.000000</td>\n",
       "      <td>0.000000</td>\n",
       "      <td>0.000000</td>\n",
       "      <td>0.000000</td>\n",
       "      <td>0.000000</td>\n",
       "      <td>0.000000</td>\n",
       "      <td>0.000000</td>\n",
       "      <td>0.000000</td>\n",
       "      <td>0.000000</td>\n",
       "      <td>0.000000</td>\n",
       "    </tr>\n",
       "    <tr>\n",
       "      <th>25%</th>\n",
       "      <td>0.000000</td>\n",
       "      <td>20.000000</td>\n",
       "      <td>0.000000e+00</td>\n",
       "      <td>0.000000e+00</td>\n",
       "      <td>0.000000</td>\n",
       "      <td>0.000000</td>\n",
       "      <td>0.000000</td>\n",
       "      <td>0.000000</td>\n",
       "      <td>0.000000</td>\n",
       "      <td>0.000000</td>\n",
       "      <td>...</td>\n",
       "      <td>84.000000</td>\n",
       "      <td>10.000000</td>\n",
       "      <td>0.050000</td>\n",
       "      <td>0.000000</td>\n",
       "      <td>0.000000</td>\n",
       "      <td>0.000000</td>\n",
       "      <td>0.000000</td>\n",
       "      <td>0.000000</td>\n",
       "      <td>0.000000</td>\n",
       "      <td>0.000000</td>\n",
       "    </tr>\n",
       "    <tr>\n",
       "      <th>50%</th>\n",
       "      <td>0.000000</td>\n",
       "      <td>25.000000</td>\n",
       "      <td>4.400000e+01</td>\n",
       "      <td>0.000000e+00</td>\n",
       "      <td>0.000000</td>\n",
       "      <td>0.000000</td>\n",
       "      <td>0.000000</td>\n",
       "      <td>0.000000</td>\n",
       "      <td>0.000000</td>\n",
       "      <td>0.000000</td>\n",
       "      <td>...</td>\n",
       "      <td>255.000000</td>\n",
       "      <td>62.000000</td>\n",
       "      <td>0.510000</td>\n",
       "      <td>0.030000</td>\n",
       "      <td>0.000000</td>\n",
       "      <td>0.000000</td>\n",
       "      <td>0.000000</td>\n",
       "      <td>0.000000</td>\n",
       "      <td>0.000000</td>\n",
       "      <td>0.000000</td>\n",
       "    </tr>\n",
       "    <tr>\n",
       "      <th>75%</th>\n",
       "      <td>0.000000</td>\n",
       "      <td>50.000000</td>\n",
       "      <td>2.790000e+02</td>\n",
       "      <td>5.310000e+02</td>\n",
       "      <td>0.000000</td>\n",
       "      <td>0.000000</td>\n",
       "      <td>0.000000</td>\n",
       "      <td>0.000000</td>\n",
       "      <td>0.000000</td>\n",
       "      <td>0.000000</td>\n",
       "      <td>...</td>\n",
       "      <td>255.000000</td>\n",
       "      <td>255.000000</td>\n",
       "      <td>1.000000</td>\n",
       "      <td>0.070000</td>\n",
       "      <td>0.060000</td>\n",
       "      <td>0.020000</td>\n",
       "      <td>1.000000</td>\n",
       "      <td>1.000000</td>\n",
       "      <td>0.000000</td>\n",
       "      <td>0.000000</td>\n",
       "    </tr>\n",
       "    <tr>\n",
       "      <th>max</th>\n",
       "      <td>42862.000000</td>\n",
       "      <td>70.000000</td>\n",
       "      <td>3.817091e+08</td>\n",
       "      <td>5.150836e+06</td>\n",
       "      <td>77.000000</td>\n",
       "      <td>4.000000</td>\n",
       "      <td>884.000000</td>\n",
       "      <td>975.000000</td>\n",
       "      <td>40.000000</td>\n",
       "      <td>8.000000</td>\n",
       "      <td>...</td>\n",
       "      <td>255.000000</td>\n",
       "      <td>255.000000</td>\n",
       "      <td>1.000000</td>\n",
       "      <td>1.000000</td>\n",
       "      <td>1.000000</td>\n",
       "      <td>1.000000</td>\n",
       "      <td>1.000000</td>\n",
       "      <td>1.000000</td>\n",
       "      <td>1.000000</td>\n",
       "      <td>1.000000</td>\n",
       "    </tr>\n",
       "  </tbody>\n",
       "</table>\n",
       "<p>8 rows × 29 columns</p>\n",
       "</div>"
      ],
      "text/plain": [
       "           duration       service     src_bytes     dst_bytes           hot  \\\n",
       "count  24998.000000  24998.000000  2.499800e+04  2.499800e+04  24998.000000   \n",
       "mean     310.648452     32.024842  2.442409e+04  3.305597e+03      0.193535   \n",
       "std     2712.235502     16.493033  2.420103e+06  8.301712e+04      2.127846   \n",
       "min        0.000000      1.000000  0.000000e+00  0.000000e+00      0.000000   \n",
       "25%        0.000000     20.000000  0.000000e+00  0.000000e+00      0.000000   \n",
       "50%        0.000000     25.000000  4.400000e+01  0.000000e+00      0.000000   \n",
       "75%        0.000000     50.000000  2.790000e+02  5.310000e+02      0.000000   \n",
       "max    42862.000000     70.000000  3.817091e+08  5.150836e+06     77.000000   \n",
       "\n",
       "       num_failed_logins  num_compromised      num_root  num_file_creations  \\\n",
       "count       24998.000000     24998.000000  24998.000000        24998.000000   \n",
       "mean            0.001200         0.229418      0.251700            0.014841   \n",
       "std             0.045594        10.457662     11.545358            0.531652   \n",
       "min             0.000000         0.000000      0.000000            0.000000   \n",
       "25%             0.000000         0.000000      0.000000            0.000000   \n",
       "50%             0.000000         0.000000      0.000000            0.000000   \n",
       "75%             0.000000         0.000000      0.000000            0.000000   \n",
       "max             4.000000       884.000000    975.000000           40.000000   \n",
       "\n",
       "       num_access_files  ...  dst_host_count  dst_host_srv_count  \\\n",
       "count      24998.000000  ...    24998.000000        24998.000000   \n",
       "mean           0.004360  ...      182.405832          115.254580   \n",
       "std            0.098905  ...       99.046209          110.659088   \n",
       "min            0.000000  ...        0.000000            0.000000   \n",
       "25%            0.000000  ...       84.000000           10.000000   \n",
       "50%            0.000000  ...      255.000000           62.000000   \n",
       "75%            0.000000  ...      255.000000          255.000000   \n",
       "max            8.000000  ...      255.000000          255.000000   \n",
       "\n",
       "       dst_host_same_srv_rate  dst_host_diff_srv_rate  \\\n",
       "count            24998.000000            24998.000000   \n",
       "mean                 0.520648                0.083117   \n",
       "std                  0.449020                0.188442   \n",
       "min                  0.000000                0.000000   \n",
       "25%                  0.050000                0.000000   \n",
       "50%                  0.510000                0.030000   \n",
       "75%                  1.000000                0.070000   \n",
       "max                  1.000000                1.000000   \n",
       "\n",
       "       dst_host_same_src_port_rate  dst_host_srv_diff_host_rate  \\\n",
       "count                 24998.000000                 24998.000000   \n",
       "mean                      0.148392                     0.032109   \n",
       "std                       0.309335                     0.111102   \n",
       "min                       0.000000                     0.000000   \n",
       "25%                       0.000000                     0.000000   \n",
       "50%                       0.000000                     0.000000   \n",
       "75%                       0.060000                     0.020000   \n",
       "max                       1.000000                     1.000000   \n",
       "\n",
       "       dst_host_serror_rate  dst_host_srv_serror_rate  dst_host_rerror_rate  \\\n",
       "count          24998.000000              24998.000000          24998.000000   \n",
       "mean               0.284272                  0.278418              0.118272   \n",
       "std                0.444531                  0.445374              0.306349   \n",
       "min                0.000000                  0.000000              0.000000   \n",
       "25%                0.000000                  0.000000              0.000000   \n",
       "50%                0.000000                  0.000000              0.000000   \n",
       "75%                1.000000                  1.000000              0.000000   \n",
       "max                1.000000                  1.000000              1.000000   \n",
       "\n",
       "       dst_host_srv_rerror_rate  \n",
       "count              24998.000000  \n",
       "mean                   0.119189  \n",
       "std                    0.317858  \n",
       "min                    0.000000  \n",
       "25%                    0.000000  \n",
       "50%                    0.000000  \n",
       "75%                    0.000000  \n",
       "max                    1.000000  \n",
       "\n",
       "[8 rows x 29 columns]"
      ]
     },
     "metadata": {},
     "output_type": "display_data"
    }
   ],
   "source": [
    "display(data.head())\n",
    "display(data.describe())"
   ]
  },
  {
   "cell_type": "markdown",
   "metadata": {},
   "source": [
    "## Part 1: PCA\n",
    "Class PCA it has following functions:\n",
    "- Standadize to standardize data\n",
    "- find_eigen_pairs\n",
    "- reduce_data\n",
    "- reconstruct_data\n",
    "- find_error"
   ]
  },
  {
   "cell_type": "code",
   "execution_count": 62,
   "metadata": {
    "ExecuteTime": {
     "end_time": "2019-02-17T14:48:03.268909Z",
     "start_time": "2019-02-17T14:48:03.235421Z"
    }
   },
   "outputs": [],
   "source": [
    "class PCA:\n",
    "    def standardize(self, X):\n",
    "        X_standardized = (X - self.mean) / self.std\n",
    "        return X_standardized\n",
    "\n",
    "    def find_eigen_pairs(self, X):\n",
    "        self.mean, self.std = X.mean(), X.std()\n",
    "        X = self.standardize(X)\n",
    "        X = np.array(X)\n",
    "        self.mean_vec = np.mean(X, axis=0)\n",
    "        conv_mat = X.T.dot(X)\n",
    "        #         print(conv_mat)\n",
    "        eigen_values, eigen_vectors = np.linalg.eig(conv_mat)\n",
    "        tot = sum(eigen_values)\n",
    "        eigen_values = [(i / tot) * 100 for i in eigen_values]\n",
    "        eigen_pairs = [(np.abs(eigen_values[i]), eigen_vectors[:, i])\n",
    "                       for i in range(len(eigen_values))]\n",
    "        eigen_pairs.sort(key=lambda x: x[0], reverse=True)\n",
    "        self.eigen_pairs = eigen_pairs\n",
    "\n",
    "    def reduce_dimension(self, X, percent=90):\n",
    "        X = np.array(self.standardize(X))\n",
    "        num_dimension = 0\n",
    "        eigen_values = np.array([i[0] for i in self.eigen_pairs])\n",
    "        eigen_values = np.cumsum(eigen_values)\n",
    "        for index, percentage in enumerate(eigen_values):\n",
    "            if percentage > percent:\n",
    "                num_dimension = index + 1\n",
    "                break\n",
    "        num_features = X.shape[1]\n",
    "        proj_mat = self.eigen_pairs[0][1].reshape(num_features, 1)\n",
    "        for eig_vec_index in range(1, num_dimension):\n",
    "            proj_mat = np.hstack((proj_mat,\n",
    "                                  self.eigen_pairs[eig_vec_index][1].reshape(\n",
    "                                      num_features, 1)))\n",
    "        self.proj_mat = proj_mat\n",
    "        pca_data = X.dot(proj_mat)\n",
    "        return pd.DataFrame(pca_data)\n",
    "\n",
    "    def reconstruct(self, X):\n",
    "        X = np.array(X)\n",
    "        X_reconstructed = X.dot(self.proj_mat.T)\n",
    "        return pd.DataFrame(X_reconstructed)\n",
    "\n",
    "    def euclid(self, test_row, train_row):\n",
    "        dis = np.sqrt(\n",
    "            np.sum([(x - y)**2 for x, y in zip(test_row, train_row)]))\n",
    "        return dis\n",
    "\n",
    "    def find_error(self, X_original, X_reconstructed):\n",
    "        X_original = self.standardize(X_original)\n",
    "        X_original = np.array(X_original)\n",
    "        X_reconstructed = np.array(X_reconstructed)\n",
    "        error = np.sum([\n",
    "            self.euclid(x, y) for x, y in zip(X_original, X_reconstructed)\n",
    "        ])\n",
    "        print(error)\n",
    "        error /= (2 * X_original.shape[0])\n",
    "        return error"
   ]
  },
  {
   "cell_type": "code",
   "execution_count": 63,
   "metadata": {
    "ExecuteTime": {
     "end_time": "2019-02-17T14:48:04.003172Z",
     "start_time": "2019-02-17T14:48:03.988786Z"
    }
   },
   "outputs": [],
   "source": [
    "PCA_data = data.drop(['xAttack'], axis=1)"
   ]
  },
  {
   "cell_type": "code",
   "execution_count": 64,
   "metadata": {
    "ExecuteTime": {
     "end_time": "2019-02-17T14:48:05.001320Z",
     "start_time": "2019-02-17T14:48:04.881772Z"
    }
   },
   "outputs": [],
   "source": [
    "reducer = PCA()\n",
    "reducer.find_eigen_pairs(PCA_data)\n",
    "reduced_data = reducer.reduce_dimension(PCA_data)"
   ]
  },
  {
   "cell_type": "code",
   "execution_count": 65,
   "metadata": {
    "ExecuteTime": {
     "end_time": "2019-02-17T14:48:05.366694Z",
     "start_time": "2019-02-17T14:48:05.361758Z"
    }
   },
   "outputs": [
    {
     "name": "stdout",
     "output_type": "stream",
     "text": [
      "(24998, 14) (24998, 29)\n"
     ]
    }
   ],
   "source": [
    "print(reduced_data.shape, PCA_data.shape)"
   ]
  },
  {
   "cell_type": "code",
   "execution_count": 66,
   "metadata": {
    "ExecuteTime": {
     "end_time": "2019-02-17T14:48:07.262800Z",
     "start_time": "2019-02-17T14:48:06.212166Z"
    }
   },
   "outputs": [
    {
     "name": "stdout",
     "output_type": "stream",
     "text": [
      "31610.96809165736\n"
     ]
    },
    {
     "data": {
      "text/plain": [
       "0.6322699434286215"
      ]
     },
     "execution_count": 66,
     "metadata": {},
     "output_type": "execute_result"
    }
   ],
   "source": [
    "reconstructed_data = reducer.reconstruct(reduced_data)\n",
    "reducer.find_error(PCA_data, reconstructed_data)"
   ]
  },
  {
   "cell_type": "markdown",
   "metadata": {},
   "source": [
    "## Part 2: KMeans Clustering"
   ]
  },
  {
   "cell_type": "code",
   "execution_count": 10,
   "metadata": {
    "ExecuteTime": {
     "end_time": "2019-02-17T14:21:42.827636Z",
     "start_time": "2019-02-17T14:21:42.726066Z"
    }
   },
   "outputs": [],
   "source": [
    "def convert_categorical_to_numerical(data):\n",
    "    res = pd.factorize(data)\n",
    "    x, y = res\n",
    "    return x, y"
   ]
  },
  {
   "cell_type": "code",
   "execution_count": 11,
   "metadata": {
    "ExecuteTime": {
     "end_time": "2019-02-17T14:21:42.900094Z",
     "start_time": "2019-02-17T14:21:42.831313Z"
    }
   },
   "outputs": [],
   "source": [
    "reduced_data['xAttack'] = data['xAttack']\n",
    "array, convert_back_attack_to_categorical = convert_categorical_to_numerical(\n",
    "    reduced_data['xAttack'])\n",
    "reduced_data['xAttack'] = array"
   ]
  },
  {
   "cell_type": "markdown",
   "metadata": {},
   "source": [
    "## Cluster class:\n",
    "Each cluster maintain few variables:\n",
    "- points\n",
    "- mean\n",
    "- count\n",
    "- change wether the mean of the point changes or not\n",
    "\n",
    "There are various functions for clusters:\n",
    "- add point to cluster\n",
    "- delete a point from cluster\n",
    "- calcuate mean of cluster\n",
    "- purity of cluster"
   ]
  },
  {
   "cell_type": "code",
   "execution_count": 52,
   "metadata": {
    "ExecuteTime": {
     "end_time": "2019-02-17T14:30:20.132263Z",
     "start_time": "2019-02-17T14:30:20.095917Z"
    }
   },
   "outputs": [],
   "source": [
    "class Cluster:\n",
    "    def __init__(self, X):\n",
    "        self.points = None\n",
    "        self.mean = X\n",
    "        self.count = 0\n",
    "        self.change = True\n",
    "\n",
    "    def add_point(self, X):\n",
    "        if self.points is None:\n",
    "            self.points = np.array(X)\n",
    "            self.points = np.reshape(self.points, (1, -1))\n",
    "        else:\n",
    "            self.points = np.vstack([self.points, X])\n",
    "        self.count += 1\n",
    "\n",
    "    def delete_point(self):\n",
    "        if self.points is None:\n",
    "            return\n",
    "        if len(self.points) == 1:\n",
    "            self.points = None\n",
    "        x = self.points[-1]\n",
    "        self.points = self.points[:-1]\n",
    "        self.count -= 1\n",
    "        return x\n",
    "\n",
    "    def calculate_mean(self):\n",
    "        new_mean = np.mean(self.points, axis=0)\n",
    "        if (new_mean == self.mean).all:\n",
    "            self.change = False\n",
    "        else:\n",
    "            self.change = True\n",
    "        self.mean = new_mean\n",
    "\n",
    "    def label(self):\n",
    "        val, count = np.unique(self.points[:, -1], return_counts=True)\n",
    "        return val[np.argmax(count)]\n",
    "\n",
    "    def purity(self):\n",
    "        val, count = np.unique(self.points[:, -1], return_counts=True)\n",
    "        return (100.0 * np.max(count)) / np.sum(count)\n",
    "\n",
    "    def clear_cluster(self):\n",
    "        self.points = None\n",
    "        self.count = 0\n",
    "\n",
    "    def return_class_distribution(self):\n",
    "        val, count = np.unique(self.points[:, -1], return_counts=True)\n",
    "        return val, count\n",
    "\n",
    "    def plot_pie(self, labels):\n",
    "        val, count = np.unique(self.points[:, -1], return_counts=True)\n",
    "        labels = [labels[i] for i in val]\n",
    "        #         print(val, count)\n",
    "        sizes = [i / np.sum(count) for i in count]\n",
    "        fig1, ax1 = plt.subplots()\n",
    "        ax1.pie(\n",
    "            sizes,\n",
    "            labels=labels,\n",
    "            autopct='%1.1f%%',\n",
    "            shadow=True,\n",
    "            startangle=90)\n",
    "        ax1.axis('equal'\n",
    "                 )  # Equal aspect ratio ensures that pie is drawn as a circle.\n",
    "        plt.legend(loc=\"best\")\n",
    "        plt.style.use('fivethirtyeight')\n",
    "        plt.show()"
   ]
  },
  {
   "cell_type": "markdown",
   "metadata": {},
   "source": [
    "## Kmeans class:\n",
    "Class maintain the list of clusters and number of clusters.\n",
    "It has various functions like-\n",
    "- predict\n",
    "- fit\n",
    "- print_purity\n",
    "- plot_pie\n",
    "<br>\n",
    "To handle merging of clusters I've randomly selecting a point from some cluster and assign to the empty cluster"
   ]
  },
  {
   "cell_type": "code",
   "execution_count": 51,
   "metadata": {
    "ExecuteTime": {
     "end_time": "2019-02-17T14:30:14.297257Z",
     "start_time": "2019-02-17T14:30:14.265435Z"
    }
   },
   "outputs": [],
   "source": [
    "class KMeans:\n",
    "    def __init__(self, k):\n",
    "        self.k = k\n",
    "        self.clusters = []\n",
    "\n",
    "    def euclid(self, x_point, mean_point):\n",
    "        dis = np.sum([(x - y)**2 for x, y in zip(x_point, mean_point)])\n",
    "        dis -= (x_point[-1] - mean_point[-1])**2\n",
    "        return np.sqrt(dis)\n",
    "\n",
    "    def make_non_zero_cluster(self, index):\n",
    "        non_zero_cluster = 0\n",
    "        for i in range(self.k):\n",
    "            if self.clusters[i].count > 1:\n",
    "                non_zero_cluster = i\n",
    "                break\n",
    "        random_point = self.clusters[non_zero_cluster].delete_point()\n",
    "        self.clusters[index].add_point(random_point)\n",
    "\n",
    "    def fit(self, data, iterations=15):\n",
    "        random_indexes = random.sample(range(0, len(data)), self.k)\n",
    "        data = np.array(data)\n",
    "        for i in random_indexes:\n",
    "            self.clusters.append(Cluster(data[i]))\n",
    "        for iteration in range(iterations):\n",
    "            for i in range(len(self.clusters)):\n",
    "                self.clusters[i].clear_cluster()\n",
    "            for row in data:\n",
    "                distances = np.array(\n",
    "                    [self.euclid(row, x.mean) for x in self.clusters])\n",
    "                self.clusters[np.argmax(distances)].add_point(row)\n",
    "            for i in range(self.k):\n",
    "                if self.clusters[i].count == 0:\n",
    "                    self.make_non_zero_cluster(i)\n",
    "                    self.clusters[i].change = True\n",
    "                self.clusters[i].calculate_mean()\n",
    "            change = functools.reduce(lambda a, d: a or d,\n",
    "                                      [i.change for i in self.clusters], False)\n",
    "            if not change:\n",
    "                break\n",
    "\n",
    "    def print_purity(self):\n",
    "        for i, cluster in enumerate(self.clusters):\n",
    "            print(\"i = {0}, count = {1}, purity = {2}, label = {3} \".format(\n",
    "                i, cluster.count, cluster.purity(), cluster.label()))\n",
    "\n",
    "    def plot_pie_chart(self, labels):\n",
    "        for cluster in self.clusters:\n",
    "            cluster.plot_pie(labels)"
   ]
  },
  {
   "cell_type": "code",
   "execution_count": 40,
   "metadata": {
    "ExecuteTime": {
     "end_time": "2019-02-17T14:27:02.860833Z",
     "start_time": "2019-02-17T14:26:52.603951Z"
    }
   },
   "outputs": [],
   "source": [
    "clustering = KMeans(5)\n",
    "clustering.fit(reduced_data)"
   ]
  },
  {
   "cell_type": "code",
   "execution_count": 41,
   "metadata": {
    "ExecuteTime": {
     "end_time": "2019-02-17T14:27:02.884000Z",
     "start_time": "2019-02-17T14:27:02.864720Z"
    }
   },
   "outputs": [
    {
     "name": "stdout",
     "output_type": "stream",
     "text": [
      "i = 0, count = 3874, purity = 86.39648941662365, label = 1.0 \n",
      "i = 1, count = 19841, purity = 65.1227256690691, label = 0.0 \n",
      "i = 2, count = 2, purity = 100.0, label = 0.0 \n",
      "i = 3, count = 1021, purity = 82.07639569049951, label = 2.0 \n",
      "i = 4, count = 260, purity = 51.53846153846154, label = 1.0 \n"
     ]
    }
   ],
   "source": [
    "clustering.print_purity()"
   ]
  },
  {
   "cell_type": "code",
   "execution_count": 42,
   "metadata": {
    "ExecuteTime": {
     "end_time": "2019-02-17T14:27:03.610040Z",
     "start_time": "2019-02-17T14:27:02.886717Z"
    }
   },
   "outputs": [
    {
     "data": {
      "image/png": "[encoded data removed]",
      "text/plain": [
       "<Figure size 432x288 with 1 Axes>"
      ]
     },
     "metadata": {},
     "output_type": "display_data"
    },
    {
     "data": {
      "image/png": "[encoded data removed]",
      "text/plain": [
       "<Figure size 432x288 with 1 Axes>"
      ]
     },
     "metadata": {},
     "output_type": "display_data"
    },
    {
     "data": {
      "image/png": "[encoded data removed]",
      "text/plain": [
       "<Figure size 432x288 with 1 Axes>"
      ]
     },
     "metadata": {},
     "output_type": "display_data"
    },
    {
     "data": {
      "image/png": "[encoded data removed]",
      "text/plain": [
       "<Figure size 432x288 with 1 Axes>"
      ]
     },
     "metadata": {},
     "output_type": "display_data"
    },
    {
     "data": {
      "image/png": "[encoded data removed]",
      "text/plain": [
       "<Figure size 432x288 with 1 Axes>"
      ]
     },
     "metadata": {},
     "output_type": "display_data"
    }
   ],
   "source": [
    "clustering.plot_pie_chart(convert_back_attack_to_categorical)"
   ]
  },
  {
   "cell_type": "markdown",
   "metadata": {},
   "source": [
    "## Part 3: GMM Clustering"
   ]
  },
  {
   "cell_type": "code",
   "execution_count": 43,
   "metadata": {
    "ExecuteTime": {
     "end_time": "2019-02-17T14:27:05.000633Z",
     "start_time": "2019-02-17T14:27:03.615755Z"
    }
   },
   "outputs": [
    {
     "data": {
      "text/plain": [
       "GaussianMixture(covariance_type='full', init_params='kmeans', max_iter=100,\n",
       "        means_init=None, n_components=5, n_init=1, precisions_init=None,\n",
       "        random_state=None, reg_covar=1e-06, tol=0.001, verbose=0,\n",
       "        verbose_interval=10, warm_start=False, weights_init=None)"
      ]
     },
     "execution_count": 43,
     "metadata": {},
     "output_type": "execute_result"
    }
   ],
   "source": [
    "gmm = GaussianMixture(n_components=5)\n",
    "gmm.fit(reduced_data.drop('xAttack', 1))"
   ]
  },
  {
   "cell_type": "code",
   "execution_count": 44,
   "metadata": {
    "ExecuteTime": {
     "end_time": "2019-02-17T14:27:05.015214Z",
     "start_time": "2019-02-17T14:27:05.002942Z"
    }
   },
   "outputs": [],
   "source": [
    "def euclid(x_point, mean_point):\n",
    "    #     print(x_point.shape, mean_point.shape)\n",
    "    dis = np.sum([(x - y)**2 for x, y in zip(x_point, mean_point)])\n",
    "    return np.sqrt(dis)"
   ]
  },
  {
   "cell_type": "code",
   "execution_count": 45,
   "metadata": {
    "ExecuteTime": {
     "end_time": "2019-02-17T14:27:15.163959Z",
     "start_time": "2019-02-17T14:27:05.017080Z"
    }
   },
   "outputs": [
    {
     "name": "stdout",
     "output_type": "stream",
     "text": [
      "i = 0, count = 1357, purity = 48.34193072955048, label = 0.0 \n"
     ]
    },
    {
     "data": {
      "image/png": "[encoded data removed]",
      "text/plain": [
       "<Figure size 432x288 with 1 Axes>"
      ]
     },
     "metadata": {},
     "output_type": "display_data"
    },
    {
     "name": "stdout",
     "output_type": "stream",
     "text": [
      "i = 1, count = 11496, purity = 86.28218510786361, label = 0.0 \n"
     ]
    },
    {
     "data": {
      "image/png": "[encoded data removed]",
      "text/plain": [
       "<Figure size 432x288 with 1 Axes>"
      ]
     },
     "metadata": {},
     "output_type": "display_data"
    },
    {
     "name": "stdout",
     "output_type": "stream",
     "text": [
      "i = 2, count = 6517, purity = 100.0, label = 1.0 \n"
     ]
    },
    {
     "data": {
      "image/png": "[encoded data removed]",
      "text/plain": [
       "<Figure size 432x288 with 1 Axes>"
      ]
     },
     "metadata": {},
     "output_type": "display_data"
    },
    {
     "name": "stdout",
     "output_type": "stream",
     "text": [
      "i = 3, count = 8, purity = 100.0, label = 0.0 \n"
     ]
    },
    {
     "data": {
      "image/png": "[encoded data removed]",
      "text/plain": [
       "<Figure size 432x288 with 1 Axes>"
      ]
     },
     "metadata": {},
     "output_type": "display_data"
    },
    {
     "name": "stdout",
     "output_type": "stream",
     "text": [
      "i = 4, count = 5620, purity = 49.48398576512456, label = 0.0 \n"
     ]
    },
    {
     "data": {
      "image/png": "[encoded data removed]",
      "text/plain": [
       "<Figure size 432x288 with 1 Axes>"
      ]
     },
     "metadata": {},
     "output_type": "display_data"
    }
   ],
   "source": [
    "clusters = [Cluster(x) for x in gmm.means_]\n",
    "reduced_data_np = np.array(reduced_data)\n",
    "for row in reduced_data_np:\n",
    "    probs = gmm.predict_proba([row[:-1]])\n",
    "    clusters[np.argmax(probs)].add_point(row)\n",
    "for i, cluster in enumerate(clusters):\n",
    "    print(\"i = {0}, count = {1}, purity = {2}, label = {3} \".format(\n",
    "        i, cluster.count, cluster.purity(), cluster.label()))\n",
    "    cluster.plot_pie(convert_back_attack_to_categorical)"
   ]
  },
  {
   "cell_type": "markdown",
   "metadata": {},
   "source": [
    "## Part 4: Hierarchical clustering"
   ]
  },
  {
   "cell_type": "code",
   "execution_count": 46,
   "metadata": {
    "ExecuteTime": {
     "end_time": "2019-02-17T14:27:29.231964Z",
     "start_time": "2019-02-17T14:27:15.167116Z"
    }
   },
   "outputs": [
    {
     "name": "stdout",
     "output_type": "stream",
     "text": [
      "i = 0, count = 24989, purity = 53.46352395053824, label = 0 \n"
     ]
    },
    {
     "data": {
      "image/png": "[encoded data removed]",
      "text/plain": [
       "<Figure size 432x288 with 1 Axes>"
      ]
     },
     "metadata": {},
     "output_type": "display_data"
    },
    {
     "name": "stdout",
     "output_type": "stream",
     "text": [
      "i = 1, count = 1, purity = 100.0, label = 2 \n"
     ]
    },
    {
     "data": {
      "image/png": "[encoded data removed]",
      "text/plain": [
       "<Figure size 432x288 with 1 Axes>"
      ]
     },
     "metadata": {},
     "output_type": "display_data"
    },
    {
     "name": "stdout",
     "output_type": "stream",
     "text": [
      "i = 2, count = 6, purity = 66.66666666666667, label = 3 \n"
     ]
    },
    {
     "data": {
      "image/png": "[encoded data removed]",
      "text/plain": [
       "<Figure size 432x288 with 1 Axes>"
      ]
     },
     "metadata": {},
     "output_type": "display_data"
    },
    {
     "name": "stdout",
     "output_type": "stream",
     "text": [
      "i = 3, count = 1, purity = 100.0, label = 0 \n"
     ]
    },
    {
     "data": {
      "image/png": "[encoded data removed]",
      "text/plain": [
       "<Figure size 432x288 with 1 Axes>"
      ]
     },
     "metadata": {},
     "output_type": "display_data"
    },
    {
     "name": "stdout",
     "output_type": "stream",
     "text": [
      "i = 4, count = 1, purity = 100.0, label = 0 \n"
     ]
    },
    {
     "data": {
      "image/png": "[encoded data removed]",
      "text/plain": [
       "<Figure size 432x288 with 1 Axes>"
      ]
     },
     "metadata": {},
     "output_type": "display_data"
    }
   ],
   "source": [
    "clusters = [Cluster(x) for x in gmm.means_]\n",
    "cluster = AgglomerativeClustering(\n",
    "    n_clusters=5, affinity='euclidean', linkage='single')\n",
    "cluster_return = cluster.fit_predict(reduced_data.drop('xAttack', 1))\n",
    "lla = reduced_data['xAttack'].values\n",
    "for entry, label in zip(cluster_return, lla):\n",
    "    clusters[entry].add_point(label)\n",
    "for i, cluster in enumerate(clusters):\n",
    "    print(\"i = {0}, count = {1}, purity = {2}, label = {3} \".format(\n",
    "        i, cluster.count, cluster.purity(), cluster.label()))\n",
    "    cluster.plot_pie(convert_back_attack_to_categorical)"
   ]
  },
  {
   "cell_type": "markdown",
   "metadata": {},
   "source": [
    "## Part 5\n",
    "Yes PCA can be used with original data which also contains categorical features along with categorical features, All though it is not useful to do the same.\n",
    "Data contains all of binary, nominal and ordinal categorical features.\n",
    "### PCA for Ordinal features:\n",
    "Following are the possible options to do for ordinal featues :\n",
    "* Consider ordinal features as numerical features.\n",
    "* One hot encoding\n",
    "* Group means: use means of a truncated distribution for variable scores.\n",
    "\n",
    "### PCA for Binary data:\n",
    "* Binary data can be considered as ordinal data with only two possible orders. \n",
    "\n",
    "### PCA for Nominal data:\n",
    "* PCA is difficult to be applied on nominal data as no relative ordering may exist between possible values of nominal data."
   ]
  },
  {
   "cell_type": "markdown",
   "metadata": {},
   "source": [
    "# Question 2"
   ]
  },
  {
   "cell_type": "markdown",
   "metadata": {},
   "source": [
    "# Logistic Regression"
   ]
  },
  {
   "cell_type": "code",
   "execution_count": 2,
   "metadata": {
    "ExecuteTime": {
     "end_time": "2019-03-19T15:23:14.908359Z",
     "start_time": "2019-03-19T15:23:14.866062Z"
    }
   },
   "outputs": [],
   "source": [
    "def sigmoid(x):\n",
    "    return np.exp(x) / (1 + np.exp(x))\n",
    "\n",
    "\n",
    "def split_test_train(X, y, percent=0.8):\n",
    "    mask = np.random.rand(len(X)) < percent\n",
    "    X_train = X[mask].dropna()\n",
    "    X_test = X[~mask].dropna()\n",
    "    y_train = y[mask].dropna()\n",
    "    y_test = y[~mask].dropna()\n",
    "    print(X_train.shape, X_test.shape)\n",
    "    X_train = X_train.reset_index(drop=True)\n",
    "    X_test = X_test.reset_index(drop=True)\n",
    "    y_train = y_train.reset_index(drop=True)\n",
    "    y_test = y_test.reset_index(drop=True)\n",
    "    return X_train, X_test, y_train, y_test\n",
    "\n",
    "\n",
    "def evaluate_result(y_pred, y_test):\n",
    "    #     pprint(confusion_matrix(y_test, y_pred))\n",
    "    #     tn, fp, fn, tp = confusion_matrix(y_test, y_pred).ravel()\n",
    "    #     print(\"tn = {0}, fp = {1}, fn = {2}, tp = {3}\".format(tn, fp, fn, tp))\n",
    "    f1 = f1_score(y_test, y_pred)\n",
    "    #     print(\"f1_score\\t : \", f1)\n",
    "    ps = precision_score(y_test, y_pred)\n",
    "    #     print(\"precision_score\\t : \", ps)\n",
    "    rs = recall_score(y_test, y_pred)\n",
    "    #     print(\"recall_score\\t : \", rs)\n",
    "    acs = accuracy_score(y_test, y_pred)\n",
    "    #     print(\"accuracy_score\\t : \", acs)\n",
    "    return np.array([acs, ps, rs, f1])"
   ]
  },
  {
   "cell_type": "code",
   "execution_count": 3,
   "metadata": {
    "ExecuteTime": {
     "end_time": "2019-03-19T15:23:15.796069Z",
     "start_time": "2019-03-19T15:23:15.771790Z"
    }
   },
   "outputs": [],
   "source": [
    "class LogisticRegression:\n",
    "    def __init__(self, alpha=0.01, iteration=1000, threshold=0.5):\n",
    "        self.alpha = alpha\n",
    "        self.iteration = iteration\n",
    "        self.threshold = threshold\n",
    "\n",
    "    def standardize(self, X):\n",
    "        X_standardized = (X - self.mean) / self.std\n",
    "        return X_standardized\n",
    "\n",
    "    def train(self, train_X, train_y):\n",
    "        self.mean, self.std = train_X.mean(), train_X.std()\n",
    "        #         print(train_X.shape, train_y.shape, np.unique(train_y))\n",
    "        train_X = self.standardize(train_X)\n",
    "        train_X = np.array(train_X)\n",
    "        ones = np.ones([train_X.shape[0], 1])\n",
    "        #         train_X = np.concatenate((ones, train_X), axis=1)\n",
    "        train_X = np.concatenate((train_X, ones), axis=1)\n",
    "        train_y = np.array(train_y).reshape(len(train_y), 1)\n",
    "        self.theta = np.zeros([1, train_X.shape[1]])\n",
    "        self.gradient_Descent(train_X, train_y)\n",
    "\n",
    "    def gradient_Descent(self, train_X, train_y):\n",
    "        cost = np.zeros(self.iteration)\n",
    "        for i in range(self.iteration):\n",
    "            value = np.dot(train_X, self.theta.T)\n",
    "            y_hat = sigmoid(value)\n",
    "            loss = y_hat - train_y\n",
    "            grad = np.dot(train_X.T, loss) / len(train_y)\n",
    "            self.theta = self.theta - self.alpha * (grad.T)\n",
    "\n",
    "\n",
    "#             self.theta = self.theta - (self.alpha / len(train_X)) * (np.dot(\n",
    "#                 train_X.T,\n",
    "#                 (sigmoid(np.dot(train_X, self.theta.T))) - train_y)).T\n",
    "#         print(\"Gradient Descent\")\n",
    "#             cost[i] = self.cost_function(train_X, train_y)\n",
    "\n",
    "    def predict(self, test_X):\n",
    "        y_prob = self.predict_probability(test_X)\n",
    "        y_pred = [1 if x > self.threshold else 0 for x in y_prob]\n",
    "        return y_pred\n",
    "\n",
    "    def predict_probability(self, test_X):\n",
    "        test_X = self.standardize(test_X)\n",
    "        test_X = np.array(test_X)\n",
    "        ones = np.ones((1, len(test_X)))\n",
    "        test_X = np.concatenate((test_X, ones.T), axis=1)\n",
    "        y_pred = sigmoid(test_X @ self.theta.T)\n",
    "        return y_pred.flatten()\n",
    "\n",
    "    def cost_function(self, X, y):\n",
    "        y_pred = sigmoid(X @ self.theta.T)\n",
    "        cost = (-y.T @ np.log(y_pred) -\n",
    "                (1 - y).T @ np.log(1 - y_pred)) / len(y)\n",
    "        return cost[0][0]"
   ]
  },
  {
   "cell_type": "code",
   "execution_count": 4,
   "metadata": {
    "ExecuteTime": {
     "end_time": "2019-03-19T15:23:17.177884Z",
     "start_time": "2019-03-19T15:23:16.809607Z"
    }
   },
   "outputs": [
    {
     "data": {
      "text/html": [
       "<div>\n",
       "<style scoped>\n",
       "    .dataframe tbody tr th:only-of-type {\n",
       "        vertical-align: middle;\n",
       "    }\n",
       "\n",
       "    .dataframe tbody tr th {\n",
       "        vertical-align: top;\n",
       "    }\n",
       "\n",
       "    .dataframe thead th {\n",
       "        text-align: right;\n",
       "    }\n",
       "</style>\n",
       "<table border=\"1\" class=\"dataframe\">\n",
       "  <thead>\n",
       "    <tr style=\"text-align: right;\">\n",
       "      <th></th>\n",
       "      <th>Serial No.</th>\n",
       "      <th>GRE Score</th>\n",
       "      <th>TOEFL Score</th>\n",
       "      <th>University Rating</th>\n",
       "      <th>SOP</th>\n",
       "      <th>LOR</th>\n",
       "      <th>CGPA</th>\n",
       "      <th>Research</th>\n",
       "      <th>Chance of Admit</th>\n",
       "    </tr>\n",
       "  </thead>\n",
       "  <tbody>\n",
       "    <tr>\n",
       "      <th>0</th>\n",
       "      <td>242</td>\n",
       "      <td>317</td>\n",
       "      <td>103</td>\n",
       "      <td>2</td>\n",
       "      <td>2.5</td>\n",
       "      <td>2.0</td>\n",
       "      <td>8.15</td>\n",
       "      <td>0</td>\n",
       "      <td>0.65</td>\n",
       "    </tr>\n",
       "    <tr>\n",
       "      <th>1</th>\n",
       "      <td>334</td>\n",
       "      <td>319</td>\n",
       "      <td>108</td>\n",
       "      <td>3</td>\n",
       "      <td>3.0</td>\n",
       "      <td>3.5</td>\n",
       "      <td>8.54</td>\n",
       "      <td>1</td>\n",
       "      <td>0.71</td>\n",
       "    </tr>\n",
       "    <tr>\n",
       "      <th>2</th>\n",
       "      <td>4</td>\n",
       "      <td>322</td>\n",
       "      <td>110</td>\n",
       "      <td>3</td>\n",
       "      <td>3.5</td>\n",
       "      <td>2.5</td>\n",
       "      <td>8.67</td>\n",
       "      <td>1</td>\n",
       "      <td>0.80</td>\n",
       "    </tr>\n",
       "    <tr>\n",
       "      <th>3</th>\n",
       "      <td>45</td>\n",
       "      <td>326</td>\n",
       "      <td>113</td>\n",
       "      <td>5</td>\n",
       "      <td>4.5</td>\n",
       "      <td>4.0</td>\n",
       "      <td>9.40</td>\n",
       "      <td>1</td>\n",
       "      <td>0.91</td>\n",
       "    </tr>\n",
       "    <tr>\n",
       "      <th>4</th>\n",
       "      <td>232</td>\n",
       "      <td>319</td>\n",
       "      <td>106</td>\n",
       "      <td>3</td>\n",
       "      <td>3.5</td>\n",
       "      <td>2.5</td>\n",
       "      <td>8.33</td>\n",
       "      <td>1</td>\n",
       "      <td>0.74</td>\n",
       "    </tr>\n",
       "  </tbody>\n",
       "</table>\n",
       "</div>"
      ],
      "text/plain": [
       "   Serial No.  GRE Score  TOEFL Score  University Rating  SOP  LOR   CGPA  \\\n",
       "0         242        317          103                  2  2.5   2.0  8.15   \n",
       "1         334        319          108                  3  3.0   3.5  8.54   \n",
       "2           4        322          110                  3  3.5   2.5  8.67   \n",
       "3          45        326          113                  5  4.5   4.0  9.40   \n",
       "4         232        319          106                  3  3.5   2.5  8.33   \n",
       "\n",
       "   Research  Chance of Admit   \n",
       "0         0              0.65  \n",
       "1         1              0.71  \n",
       "2         1              0.80  \n",
       "3         1              0.91  \n",
       "4         1              0.74  "
      ]
     },
     "metadata": {},
     "output_type": "display_data"
    },
    {
     "name": "stdout",
     "output_type": "stream",
     "text": [
      "(357, 7) (93, 7)\n"
     ]
    }
   ],
   "source": [
    "Admission_data = pd.read_csv('AdmissionDataset/data.csv')\n",
    "display(Admission_data.head())\n",
    "Admission_data['Chance of Admit '] = [\n",
    "    1 if x >= 0.5 else 0 for x in Admission_data['Chance of Admit ']\n",
    "]\n",
    "Admission_X = Admission_data.drop(['Serial No.', 'Chance of Admit '], axis=1)\n",
    "Admission_y = Admission_data[['Chance of Admit ']]\n",
    "Admission_train_X, Admission_test_X, Admission_train_y, Admission_test_y = split_test_train(\n",
    "    Admission_X, Admission_y)"
   ]
  },
  {
   "cell_type": "code",
   "execution_count": 5,
   "metadata": {
    "ExecuteTime": {
     "end_time": "2019-03-19T15:23:18.377318Z",
     "start_time": "2019-03-19T15:23:18.273420Z"
    }
   },
   "outputs": [
    {
     "data": {
      "text/plain": [
       "array([0.88172043, 1.        , 0.88172043, 0.93714286])"
      ]
     },
     "execution_count": 5,
     "metadata": {},
     "output_type": "execute_result"
    }
   ],
   "source": [
    "LGR = LogisticRegression()\n",
    "LGR.train(Admission_train_X, Admission_train_y)\n",
    "y_pred = LGR.predict(Admission_test_X)\n",
    "evaluate_result(Admission_test_y, y_pred)"
   ]
  },
  {
   "cell_type": "markdown",
   "metadata": {},
   "source": [
    "### Observations\n",
    "Accuracy of logistic regression is 0.91"
   ]
  },
  {
   "cell_type": "markdown",
   "metadata": {},
   "source": [
    "## KNN"
   ]
  },
  {
   "cell_type": "code",
   "execution_count": 58,
   "metadata": {
    "ExecuteTime": {
     "end_time": "2019-02-17T14:44:53.752323Z",
     "start_time": "2019-02-17T14:44:53.747084Z"
    }
   },
   "outputs": [
    {
     "data": {
      "text/plain": [
       "array([[ 0.16232588,  0.18840248,  0.06140222, -0.05544341,  0.18371341,\n",
       "         0.27217868,  0.07340038,  1.85481986]])"
      ]
     },
     "metadata": {},
     "output_type": "display_data"
    }
   ],
   "source": [
    "display(LGR.theta)"
   ]
  },
  {
   "cell_type": "code",
   "execution_count": 6,
   "metadata": {
    "ExecuteTime": {
     "end_time": "2019-03-19T15:23:53.813335Z",
     "start_time": "2019-03-19T15:23:53.695566Z"
    }
   },
   "outputs": [
    {
     "ename": "NameError",
     "evalue": "name 'euclid' is not defined",
     "output_type": "error",
     "traceback": [
      "\u001b[0;31m---------------------------------------------------------------------------\u001b[0m",
      "\u001b[0;31mNameError\u001b[0m                                 Traceback (most recent call last)",
      "\u001b[0;32m<ipython-input-6-51dd662827bc>\u001b[0m in \u001b[0;36m<module>\u001b[0;34m\u001b[0m\n\u001b[0;32m----> 1\u001b[0;31m \u001b[0;32mclass\u001b[0m \u001b[0mKNN\u001b[0m\u001b[0;34m:\u001b[0m\u001b[0;34m\u001b[0m\u001b[0;34m\u001b[0m\u001b[0m\n\u001b[0m\u001b[1;32m      2\u001b[0m     \u001b[0;32mdef\u001b[0m \u001b[0mfit\u001b[0m\u001b[0;34m(\u001b[0m\u001b[0mself\u001b[0m\u001b[0;34m,\u001b[0m \u001b[0mtrain_X\u001b[0m\u001b[0;34m,\u001b[0m \u001b[0mtrain_y\u001b[0m\u001b[0;34m,\u001b[0m \u001b[0mk\u001b[0m\u001b[0;34m=\u001b[0m\u001b[0;36m3\u001b[0m\u001b[0;34m,\u001b[0m \u001b[0mdistance_function\u001b[0m\u001b[0;34m=\u001b[0m\u001b[0meuclid\u001b[0m\u001b[0;34m)\u001b[0m\u001b[0;34m:\u001b[0m\u001b[0;34m\u001b[0m\u001b[0;34m\u001b[0m\u001b[0m\n\u001b[1;32m      3\u001b[0m         \u001b[0mself\u001b[0m\u001b[0;34m.\u001b[0m\u001b[0mtrain_X\u001b[0m \u001b[0;34m=\u001b[0m \u001b[0mtrain_X\u001b[0m\u001b[0;34m\u001b[0m\u001b[0;34m\u001b[0m\u001b[0m\n\u001b[1;32m      4\u001b[0m         \u001b[0mself\u001b[0m\u001b[0;34m.\u001b[0m\u001b[0mmin_X\u001b[0m\u001b[0;34m,\u001b[0m \u001b[0mself\u001b[0m\u001b[0;34m.\u001b[0m\u001b[0mmax_X\u001b[0m \u001b[0;34m=\u001b[0m \u001b[0mtrain_X\u001b[0m\u001b[0;34m.\u001b[0m\u001b[0mmin\u001b[0m\u001b[0;34m(\u001b[0m\u001b[0;34m)\u001b[0m\u001b[0;34m,\u001b[0m \u001b[0mtrain_X\u001b[0m\u001b[0;34m.\u001b[0m\u001b[0mmax\u001b[0m\u001b[0;34m(\u001b[0m\u001b[0;34m)\u001b[0m\u001b[0;34m\u001b[0m\u001b[0;34m\u001b[0m\u001b[0m\n\u001b[1;32m      5\u001b[0m         \u001b[0mself\u001b[0m\u001b[0;34m.\u001b[0m\u001b[0mtrain_X\u001b[0m \u001b[0;34m=\u001b[0m \u001b[0mself\u001b[0m\u001b[0;34m.\u001b[0m\u001b[0mnormalize\u001b[0m\u001b[0;34m(\u001b[0m\u001b[0mself\u001b[0m\u001b[0;34m.\u001b[0m\u001b[0mtrain_X\u001b[0m\u001b[0;34m)\u001b[0m\u001b[0;34m\u001b[0m\u001b[0;34m\u001b[0m\u001b[0m\n",
      "\u001b[0;32m<ipython-input-6-51dd662827bc>\u001b[0m in \u001b[0;36mKNN\u001b[0;34m()\u001b[0m\n\u001b[1;32m      1\u001b[0m \u001b[0;32mclass\u001b[0m \u001b[0mKNN\u001b[0m\u001b[0;34m:\u001b[0m\u001b[0;34m\u001b[0m\u001b[0;34m\u001b[0m\u001b[0m\n\u001b[0;32m----> 2\u001b[0;31m     \u001b[0;32mdef\u001b[0m \u001b[0mfit\u001b[0m\u001b[0;34m(\u001b[0m\u001b[0mself\u001b[0m\u001b[0;34m,\u001b[0m \u001b[0mtrain_X\u001b[0m\u001b[0;34m,\u001b[0m \u001b[0mtrain_y\u001b[0m\u001b[0;34m,\u001b[0m \u001b[0mk\u001b[0m\u001b[0;34m=\u001b[0m\u001b[0;36m3\u001b[0m\u001b[0;34m,\u001b[0m \u001b[0mdistance_function\u001b[0m\u001b[0;34m=\u001b[0m\u001b[0meuclid\u001b[0m\u001b[0;34m)\u001b[0m\u001b[0;34m:\u001b[0m\u001b[0;34m\u001b[0m\u001b[0;34m\u001b[0m\u001b[0m\n\u001b[0m\u001b[1;32m      3\u001b[0m         \u001b[0mself\u001b[0m\u001b[0;34m.\u001b[0m\u001b[0mtrain_X\u001b[0m \u001b[0;34m=\u001b[0m \u001b[0mtrain_X\u001b[0m\u001b[0;34m\u001b[0m\u001b[0;34m\u001b[0m\u001b[0m\n\u001b[1;32m      4\u001b[0m         \u001b[0mself\u001b[0m\u001b[0;34m.\u001b[0m\u001b[0mmin_X\u001b[0m\u001b[0;34m,\u001b[0m \u001b[0mself\u001b[0m\u001b[0;34m.\u001b[0m\u001b[0mmax_X\u001b[0m \u001b[0;34m=\u001b[0m \u001b[0mtrain_X\u001b[0m\u001b[0;34m.\u001b[0m\u001b[0mmin\u001b[0m\u001b[0;34m(\u001b[0m\u001b[0;34m)\u001b[0m\u001b[0;34m,\u001b[0m \u001b[0mtrain_X\u001b[0m\u001b[0;34m.\u001b[0m\u001b[0mmax\u001b[0m\u001b[0;34m(\u001b[0m\u001b[0;34m)\u001b[0m\u001b[0;34m\u001b[0m\u001b[0;34m\u001b[0m\u001b[0m\n\u001b[1;32m      5\u001b[0m         \u001b[0mself\u001b[0m\u001b[0;34m.\u001b[0m\u001b[0mtrain_X\u001b[0m \u001b[0;34m=\u001b[0m \u001b[0mself\u001b[0m\u001b[0;34m.\u001b[0m\u001b[0mnormalize\u001b[0m\u001b[0;34m(\u001b[0m\u001b[0mself\u001b[0m\u001b[0;34m.\u001b[0m\u001b[0mtrain_X\u001b[0m\u001b[0;34m)\u001b[0m\u001b[0;34m\u001b[0m\u001b[0;34m\u001b[0m\u001b[0m\n",
      "\u001b[0;31mNameError\u001b[0m: name 'euclid' is not defined"
     ]
    }
   ],
   "source": [
    "class KNN:\n",
    "    def fit(self, train_X, train_y, k=3, distance_function=euclid):\n",
    "        self.train_X = train_X\n",
    "        self.min_X, self.max_X = train_X.min(), train_X.max()\n",
    "        self.train_X = self.normalize(self.train_X)\n",
    "        self.train_y = train_y\n",
    "        self.k = k\n",
    "        self.distance_function = distance_function\n",
    "\n",
    "    def normalize(self, X):\n",
    "        X_normalized = (X - self.min_X) / (self.max_X - self.min_X)\n",
    "        return X_normalized\n",
    "\n",
    "    def predict_row(self, test_row):\n",
    "        heap = []\n",
    "        for (index, train_row) in self.train_X.iterrows():\n",
    "            dis = -self.distance_function(train_row, test_row)\n",
    "            x = (dis, self.train_y.iloc[index, 0])\n",
    "            heappush(heap, x)\n",
    "            if len(heap) > self.k:\n",
    "                heappop(heap)\n",
    "        elem, count = np.unique([i for j, i in heap], return_counts=True)\n",
    "        return elem[np.argmax(count)]\n",
    "\n",
    "    def predict(self, test_X):\n",
    "        test_y = pd.DataFrame()\n",
    "        test_y['predicted'] = [\n",
    "            self.predict_row(row) for i, row in test_X.iterrows()\n",
    "        ]\n",
    "        return test_y\n",
    "\n",
    "    def evaluate_result(self, y_test, y_pred):\n",
    "        #         pprint(confusion_matrix(y_test, y_pred))\n",
    "        f1 = f1_score(y_test, y_pred, average=\"macro\")\n",
    "        ps = precision_score(y_test, y_pred, average=\"macro\")\n",
    "        rs = recall_score(y_test, y_pred, average=\"macro\")\n",
    "        acs = accuracy_score(y_test, y_pred)\n",
    "        #         print(\"accuracy_score\\t : \", acs)\n",
    "        return np.array([acs, ps, rs, f1])\n",
    "\n",
    "    def set_k(self, k):\n",
    "        self.k = k"
   ]
  },
  {
   "cell_type": "code",
   "execution_count": 60,
   "metadata": {
    "ExecuteTime": {
     "end_time": "2019-02-17T14:44:55.905219Z",
     "start_time": "2019-02-17T14:44:55.901397Z"
    }
   },
   "outputs": [],
   "source": [
    "def run_KNN(train_X, test_X, train_y, test_y, k=3, distance_function=euclid):\n",
    "    classifier = KNN()\n",
    "    classifier.fit(train_X, train_y, k, distance_function)\n",
    "    y_predict = classifier.predict(test_X)\n",
    "    result = classifier.evaluate_result(test_y, y_predict)\n",
    "    return result"
   ]
  },
  {
   "cell_type": "code",
   "execution_count": 61,
   "metadata": {
    "ExecuteTime": {
     "end_time": "2019-02-17T14:45:02.607213Z",
     "start_time": "2019-02-17T14:44:56.532106Z"
    }
   },
   "outputs": [
    {
     "name": "stderr",
     "output_type": "stream",
     "text": [
      "/home/aman/anaconda3/lib/python3.6/site-packages/sklearn/metrics/classification.py:1143: UndefinedMetricWarning: F-score is ill-defined and being set to 0.0 in labels with no predicted samples.\n",
      "  'precision', 'predicted', average, warn_for)\n",
      "/home/aman/anaconda3/lib/python3.6/site-packages/sklearn/metrics/classification.py:1143: UndefinedMetricWarning: Precision is ill-defined and being set to 0.0 in labels with no predicted samples.\n",
      "  'precision', 'predicted', average, warn_for)\n"
     ]
    },
    {
     "data": {
      "text/plain": [
       "array([0.91      , 0.455     , 0.5       , 0.47643979])"
      ]
     },
     "execution_count": 61,
     "metadata": {},
     "output_type": "execute_result"
    }
   ],
   "source": [
    "run_KNN(\n",
    "    Admission_train_X,\n",
    "    Admission_test_X,\n",
    "    Admission_train_y,\n",
    "    Admission_test_y,\n",
    "    k=5)"
   ]
  },
  {
   "cell_type": "markdown",
   "metadata": {},
   "source": [
    "### Observations\n",
    "Accuracy of KNN is 0.91\n",
    "<br>\n",
    "Accuracy fo both Logistic regression and Knearest neighbour is same. Thus implying the fact that data has good seperable boundaries."
   ]
  },
  {
   "cell_type": "markdown",
   "metadata": {},
   "source": [
    "## Precision and Recall vs Threshold"
   ]
  },
  {
   "cell_type": "code",
   "execution_count": 38,
   "metadata": {
    "ExecuteTime": {
     "end_time": "2019-02-17T14:26:18.543672Z",
     "start_time": "2019-02-17T14:26:17.302868Z"
    },
    "scrolled": true
   },
   "outputs": [
    {
     "data": {
      "image/png": "[encoded data removed]",
      "text/plain": [
       "<Figure size 432x288 with 1 Axes>"
      ]
     },
     "metadata": {},
     "output_type": "display_data"
    }
   ],
   "source": [
    "precision = []\n",
    "recall = []\n",
    "thresholds = [i * 0.05 for i in range(20)]\n",
    "for threshold in thresholds:\n",
    "    LGR = LogisticRegression(threshold=threshold)\n",
    "    LGR.train(Admission_train_X, Admission_train_y)\n",
    "    y_pred = LGR.predict(Admission_test_X)\n",
    "    results = evaluate_result(Admission_test_y, y_pred)\n",
    "    precision.append(results[1])\n",
    "    recall.append(results[2])\n",
    "plt.plot(thresholds, precision, label=\"precision\")\n",
    "plt.plot(thresholds, recall, label=\"recall\")\n",
    "plt.legend(loc=\"best\")\n",
    "plt.ylabel(\"value\")\n",
    "plt.xlabel(\"Threshold\")\n",
    "plt.style.use('fivethirtyeight')\n",
    "plt.show()"
   ]
  },
  {
   "cell_type": "markdown",
   "metadata": {},
   "source": [
    "### Observations:\n",
    "- When threshold is less the precision is high as there would be very few predictions for class '1'. As threshold increases the precision tend to become 0 as no row would be classified as class'0'\n",
    "- When threshold become high recall become high as there would be no False Positives.\n",
    "- Lower threshold implies low False Negative rate thus high Precision"
   ]
  },
  {
   "cell_type": "markdown",
   "metadata": {},
   "source": [
    "## Part 3"
   ]
  },
  {
   "cell_type": "markdown",
   "metadata": {},
   "source": [
    "## Reading and splitting data\n"
   ]
  },
  {
   "cell_type": "code",
   "execution_count": null,
   "metadata": {
    "ExecuteTime": {
     "end_time": "2019-02-17T14:22:26.524025Z",
     "start_time": "2019-02-17T14:22:26.156877Z"
    }
   },
   "outputs": [],
   "source": [
    "wine_data = pd.read_csv(\"wine-quality/data.csv\", sep=';')\n",
    "display(wine_data.head())\n",
    "wine_X = wine_data.drop('quality', 1)\n",
    "wine_y = wine_data['quality']\n",
    "wine_train_X, wine_test_X, wine_train_y, wine_test_y = split_test_train(\n",
    "    wine_X, wine_y)"
   ]
  },
  {
   "cell_type": "markdown",
   "metadata": {},
   "source": [
    "## One vs One"
   ]
  },
  {
   "cell_type": "code",
   "execution_count": 29,
   "metadata": {
    "ExecuteTime": {
     "end_time": "2019-02-17T14:22:26.153978Z",
     "start_time": "2019-02-17T14:22:26.135094Z"
    }
   },
   "outputs": [],
   "source": [
    "class One_vs_One:\n",
    "    def __init__(self):\n",
    "        self.models = {}\n",
    "\n",
    "    def standardize(self, X):\n",
    "        X_standardized = (X - self.mean) / self.std\n",
    "        return X_standardized\n",
    "\n",
    "    def fit(self, X, y):\n",
    "        self.mean, self.std = X.mean(), X.std()\n",
    "        X = self.standardize(X)\n",
    "        X['class'] = y\n",
    "        self.labels = np.unique(y)\n",
    "        for i in range(0, len(self.labels)):\n",
    "            for j in range(i + 1, len(self.labels)):\n",
    "                label1 = self.labels[i]\n",
    "                label2 = self.labels[j]\n",
    "                X1 = X.where((X['class'] == label1)\n",
    "                             | (X['class'] == label2)).dropna()\n",
    "                X1['class'] = [1 if c == label2 else 0 for c in X1['class']]\n",
    "                X1 = X1.reset_index(drop=True)\n",
    "                LR = LogisticRegression()\n",
    "                LR.train(X1.drop('class', 1), X1['class'])\n",
    "                self.models[(label1, label2)] = LR\n",
    "\n",
    "    def predict(self, test_X):\n",
    "        test_X = self.standardize(test_X)\n",
    "        results = np.zeros([len(test_X), 1 + max(self.labels)])\n",
    "        for key in self.models:\n",
    "            y = self.models[key].predict(test_X)\n",
    "            for i in range(len(y)):\n",
    "                results[i][key[y[i]]] += 1\n",
    "        return np.argmax(results, axis=1)"
   ]
  },
  {
   "cell_type": "code",
   "execution_count": 35,
   "metadata": {
    "ExecuteTime": {
     "end_time": "2019-02-17T14:22:32.370700Z",
     "start_time": "2019-02-17T14:22:29.986998Z"
    }
   },
   "outputs": [],
   "source": [
    "oneVall = One_vs_All()\n",
    "oneVall.fit(wine_train_X, wine_train_y)"
   ]
  },
  {
   "cell_type": "code",
   "execution_count": 36,
   "metadata": {
    "ExecuteTime": {
     "end_time": "2019-02-17T14:22:32.598709Z",
     "start_time": "2019-02-17T14:22:32.372299Z"
    }
   },
   "outputs": [],
   "source": [
    "y_pred = oneVone.predict(wine_test_X)"
   ]
  },
  {
   "cell_type": "code",
   "execution_count": 33,
   "metadata": {
    "ExecuteTime": {
     "end_time": "2019-02-17T14:22:29.920338Z",
     "start_time": "2019-02-17T14:22:29.755023Z"
    }
   },
   "outputs": [
    {
     "data": {
      "text/plain": [
       "0.5477560414269275"
      ]
     },
     "execution_count": 33,
     "metadata": {},
     "output_type": "execute_result"
    }
   ],
   "source": [
    "accuracy_score(y_pred, wine_test_y)"
   ]
  },
  {
   "cell_type": "markdown",
   "metadata": {},
   "source": [
    "### Observations\n",
    "Accuracy of one vs one logistic regression is 0.5477560414269275"
   ]
  },
  {
   "cell_type": "markdown",
   "metadata": {},
   "source": [
    "## One vs All"
   ]
  },
  {
   "cell_type": "code",
   "execution_count": 34,
   "metadata": {
    "ExecuteTime": {
     "end_time": "2019-02-17T14:22:29.985385Z",
     "start_time": "2019-02-17T14:22:29.923281Z"
    }
   },
   "outputs": [],
   "source": [
    "class One_vs_All:\n",
    "    def __init__(self):\n",
    "        self.models = {}\n",
    "\n",
    "    def standardize(self, X):\n",
    "        X_standardized = (X - self.mean) / self.std\n",
    "        return X_standardized\n",
    "\n",
    "    def fit(self, X, y):\n",
    "        self.mean, self.std = X.mean(), X.std()\n",
    "        X = self.standardize(X)\n",
    "        X['class'] = y\n",
    "        self.labels = np.unique(y)\n",
    "        for i in range(0, len(self.labels)):\n",
    "            X1 = X\n",
    "            label = self.labels[i]\n",
    "            X1['class'] = [1 if c == label else 0 for c in X1['class']]\n",
    "            X1 = X1.reset_index(drop=True)\n",
    "            LR = LogisticRegression()\n",
    "            LR.train(X1.drop('class', 1), X1['class'])\n",
    "            self.models[label] = LR\n",
    "\n",
    "    def predict(self, test_X):\n",
    "        test_X = self.standardize(test_X)\n",
    "        results = np.zeros([len(test_X), len(labels)])\n",
    "        for key in self.models:\n",
    "            y = self.models[key].predict_probability(test_X)\n",
    "            for i in range(len(y)):\n",
    "                results[i][key] += y[i]\n",
    "        return np.argmax(results, axis=1)"
   ]
  },
  {
   "cell_type": "code",
   "execution_count": 31,
   "metadata": {
    "ExecuteTime": {
     "end_time": "2019-02-17T14:22:29.520681Z",
     "start_time": "2019-02-17T14:22:26.526394Z"
    }
   },
   "outputs": [],
   "source": [
    "oneVone = One_vs_One()\n",
    "oneVone.fit(wine_train_X, wine_train_y)"
   ]
  },
  {
   "cell_type": "code",
   "execution_count": 32,
   "metadata": {
    "ExecuteTime": {
     "end_time": "2019-02-17T14:22:29.753434Z",
     "start_time": "2019-02-17T14:22:29.522364Z"
    }
   },
   "outputs": [],
   "source": [
    "y_pred = oneVone.predict(wine_test_X)"
   ]
  },
  {
   "cell_type": "code",
   "execution_count": 37,
   "metadata": {
    "ExecuteTime": {
     "end_time": "2019-02-17T14:22:32.611193Z",
     "start_time": "2019-02-17T14:22:32.601340Z"
    }
   },
   "outputs": [
    {
     "data": {
      "text/plain": [
       "0.5477560414269275"
      ]
     },
     "execution_count": 37,
     "metadata": {},
     "output_type": "execute_result"
    }
   ],
   "source": [
    "accuracy_score(y_pred, wine_test_y)"
   ]
  },
  {
   "cell_type": "markdown",
   "metadata": {},
   "source": [
    "### Observations\n",
    "Accuracy of one vs all logistic regression is 0.5477560414269275"
   ]
  }
 ],
 "metadata": {
  "kernelspec": {
   "display_name": "Python 3",
   "language": "python",
   "name": "python3"
  },
  "language_info": {
   "codemirror_mode": {
    "name": "ipython",
    "version": 3
   },
   "file_extension": ".py",
   "mimetype": "text/x-python",
   "name": "python",
   "nbconvert_exporter": "python",
   "pygments_lexer": "ipython3",
   "version": "3.6.8"
  },
  "latex_envs": {
   "LaTeX_envs_menu_present": true,
   "autoclose": false,
   "autocomplete": true,
   "bibliofile": "biblio.bib",
   "cite_by": "apalike",
   "current_citInitial": 1,
   "eqLabelWithNumbers": true,
   "eqNumInitial": 1,
   "hotkeys": {
    "equation": "Ctrl-E",
    "itemize": "Ctrl-I"
   },
   "labels_anchors": false,
   "latex_user_defs": false,
   "report_style_numbering": false,
   "user_envs_cfg": false
  }
 },
 "nbformat": 4,
 "nbformat_minor": 2
}
